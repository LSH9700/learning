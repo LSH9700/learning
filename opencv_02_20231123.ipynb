{
 "cells": [
  {
   "cell_type": "markdown",
   "id": "cef90285",
   "metadata": {},
   "source": [
    "### global Threshold"
   ]
  },
  {
   "cell_type": "code",
   "execution_count": null,
   "id": "942240ef",
   "metadata": {},
   "outputs": [],
   "source": [
    "import cv2\n",
    "img_src = cv2.imread('shape.png',cv2.IMREAD_COLOR)\n",
    "img_gray = cv2.cvtColor(img_src,cv2.COLOR_BGR2GRAY)\n",
    "img_gray = cv2.GaussianBlur(img_gray,(3,3),0)\n",
    "ret, img_dst = cv2.threshold(img_gray,200, 255, cv2.THRESH_OTSU)\n",
    "img_dst = cv2.bitwise_not(img_dst)\n",
    "cv2.imshow('src',img_src)\n",
    "cv2.imshow('dst',img_dst)\n",
    "cv2.waitKey()\n",
    "cv2.destroyAllWindows()"
   ]
  },
  {
   "cell_type": "markdown",
   "id": "b8ea92e4",
   "metadata": {},
   "source": [
    "### Adaptive threshod"
   ]
  },
  {
   "cell_type": "code",
   "execution_count": null,
   "id": "9522b038",
   "metadata": {},
   "outputs": [],
   "source": [
    "import cv2\n",
    "img_src = cv2.imread('sudoku-original.jpg',cv2.IMREAD_COLOR)\n",
    "img_gray = cv2.cvtColor(img_src,cv2.COLOR_BGR2GRAY)\n",
    "img_gray = cv2.GaussianBlur(img_gray,(3,3),0)\n",
    "# ret, img_dst = cv2.threshold(img_dst,200, 255, cv2.THRESH_OTSU)\n",
    "img_dst1 = cv2.adaptiveThreshold(img_gray,255,\n",
    "                                cv2.ADAPTIVE_THRESH_MEAN_C,\n",
    "                                cv2.THRESH_BINARY,11,2)\n",
    "img_dst2 = cv2.adaptiveThreshold(img_gray,255,\n",
    "                                cv2.ADAPTIVE_THRESH_GAUSSIAN_C,\n",
    "                                cv2.THRESH_BINARY,11,2)\n",
    "\n",
    "cv2.imshow('src',img_src)\n",
    "cv2.imshow('mean c',img_dst1)\n",
    "cv2.imshow('gaussian c',img_dst2)\n",
    "cv2.waitKey()\n",
    "cv2.destroyAllWindows()"
   ]
  },
  {
   "cell_type": "markdown",
   "id": "5dd203cc",
   "metadata": {},
   "source": [
    "### HSV"
   ]
  },
  {
   "cell_type": "code",
   "execution_count": null,
   "id": "77167395",
   "metadata": {},
   "outputs": [],
   "source": [
    "import cv2\n",
    "img_src = cv2.imread('tomato.png',cv2.IMREAD_COLOR)\n",
    "height, width = img_src.shape[:2]\n",
    "\n",
    "img_hsv = cv2.cvtColor(img_src,cv2.COLOR_BGR2HSV)\n",
    "img_h, img_s, img_v = cv2.split(img_hsv)\n",
    "orange_mask = cv2.inRange(img_h, 8,20)\n",
    "img_orange_hsv = cv2.bitwise_and(img_hsv,img_hsv,mask=orange_mask)\n",
    "img_orange_bgr = cv2.cvtColor(img_orange_hsv,cv2.COLOR_HSV2BGR)\n",
    "\n",
    "\n",
    "cv2.imshow('src',img_orange_bgr)\n",
    "cv2.imshow('h',orange_mask)\n",
    "\n",
    "cv2.waitKey()\n",
    "cv2.destroyAllWindows()"
   ]
  },
  {
   "cell_type": "markdown",
   "id": "a19fcc3a",
   "metadata": {},
   "source": [
    "### h,s,v 설정값 각각 지정"
   ]
  },
  {
   "cell_type": "code",
   "execution_count": null,
   "id": "64f7c3d4",
   "metadata": {},
   "outputs": [],
   "source": [
    "import cv2\n",
    "img_src = cv2.imread('tomato.png',cv2.IMREAD_COLOR)\n",
    "height, width = img_src.shape[:2]\n",
    "\n",
    "img_hsv = cv2.cvtColor(img_src,cv2.COLOR_BGR2HSV)\n",
    "h_min = 8; h_max = 20\n",
    "s_min = 0; v_min = 0\n",
    "s_max = 255; v_max = 255\n",
    "orange_mask = cv2.inRange(img_hsv, (h_min,s_min,v_min),(h_max,s_max,v_max))\n",
    "img_orange = cv2.bitwise_and(img_hsv,img_hsv,mask=orange_mask)\n",
    "img_orange = cv2.cvtColor(img_orange,cv2.COLOR_HSV2BGR)\n",
    "\n",
    "\n",
    "cv2.imshow('src',img_orange)\n",
    "cv2.imshow('h',orange_mask)\n",
    "\n",
    "cv2.waitKey()\n",
    "cv2.destroyAllWindows()"
   ]
  },
  {
   "cell_type": "code",
   "execution_count": null,
   "id": "c1d243dd",
   "metadata": {},
   "outputs": [],
   "source": [
    "# s,와 v값을 조정\n",
    "import cv2\n",
    "img_src = cv2.imread('tomato.png',cv2.IMREAD_COLOR)\n",
    "height, width = img_src.shape[:2]\n",
    "\n",
    "img_hsv = cv2.cvtColor(img_src,cv2.COLOR_BGR2HSV)\n",
    "h_min = 8; h_max = 20\n",
    "s_min = 100; v_min = 80\n",
    "s_max = 255; v_max = 255\n",
    "orange_mask = cv2.inRange(img_hsv, (h_min,s_min,v_min),(h_max,s_max,v_max))\n",
    "img_orange = cv2.bitwise_and(img_hsv,img_hsv,mask=orange_mask)\n",
    "img_orange = cv2.cvtColor(img_orange,cv2.COLOR_HSV2BGR)\n",
    "\n",
    "\n",
    "cv2.imshow('src',img_orange)\n",
    "cv2.imshow('h',orange_mask)\n",
    "\n",
    "cv2.waitKey()\n",
    "cv2.destroyAllWindows()"
   ]
  },
  {
   "cell_type": "code",
   "execution_count": null,
   "id": "e5d0a8cc",
   "metadata": {},
   "outputs": [],
   "source": [
    "### RED 추출\n",
    "import cv2\n",
    "img_src = cv2.imread('tomato.png',cv2.IMREAD_COLOR)\n",
    "height, width = img_src.shape[:2]\n",
    "\n",
    "img_hsv = cv2.cvtColor(img_src,cv2.COLOR_BGR2HSV)\n",
    "h_min1 = 0; h_max1 = 5\n",
    "h_min2 = 170; h_max2 = 180\n",
    "s_min = 100; v_min = 80\n",
    "s_max = 255; v_max = 255\n",
    "red_mask_low = cv2.inRange(img_hsv, (h_min1,s_min,v_min),(h_max1,s_max,v_max))\n",
    "red_mask_high = cv2.inRange(img_hsv, (h_min2,s_min,v_min),(h_max2,s_max,v_max))\n",
    "red_mask = cv2.addWeighted(red_mask_low,1.0, red_mask_high,1.0, 0.0)\n",
    "img_red = cv2.bitwise_and(img_hsv,img_hsv,mask=red_mask)\n",
    "img_red = cv2.cvtColor(img_red,cv2.COLOR_HSV2BGR)\n",
    "\n",
    "cv2.imshow('src',img_red)\n",
    "cv2.imshow('h',red_mask)\n",
    "\n",
    "cv2.waitKey()\n",
    "cv2.destroyAllWindows()"
   ]
  }
 ],
 "metadata": {
  "kernelspec": {
   "display_name": "Python 3 (ipykernel)",
   "language": "python",
   "name": "python3"
  },
  "language_info": {
   "codemirror_mode": {
    "name": "ipython",
    "version": 3
   },
   "file_extension": ".py",
   "mimetype": "text/x-python",
   "name": "python",
   "nbconvert_exporter": "python",
   "pygments_lexer": "ipython3",
   "version": "3.11.5"
  }
 },
 "nbformat": 4,
 "nbformat_minor": 5
}
