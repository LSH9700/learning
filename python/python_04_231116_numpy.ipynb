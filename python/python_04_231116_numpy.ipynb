{
 "cells": [
  {
   "cell_type": "markdown",
   "id": "3d9d7c9c",
   "metadata": {},
   "source": [
    "### 행렬 연결하기\n",
    "- vstack()\n",
    "```\n",
    "np.vstack((A,B))\n",
    "```\n",
    "- hstack()\n",
    "```\n",
    "np.hstack((A,B))\n",
    "```\n",
    "- concatenate()\n",
    "```\n",
    "np.concatenate((A,B),axis=0/1)\n",
    "```\n"
   ]
  },
  {
   "cell_type": "code",
   "execution_count": 3,
   "id": "f3762252",
   "metadata": {},
   "outputs": [],
   "source": [
    "import numpy as np\n",
    "A = np.array([[1,2],[3,4]])\n",
    "B = np.array([[1,0],[0,1]])"
   ]
  },
  {
   "cell_type": "code",
   "execution_count": 4,
   "id": "03a41879",
   "metadata": {},
   "outputs": [
    {
     "data": {
      "text/plain": [
       "array([[1, 2],\n",
       "       [3, 4]])"
      ]
     },
     "execution_count": 4,
     "metadata": {},
     "output_type": "execute_result"
    }
   ],
   "source": [
    "A"
   ]
  },
  {
   "cell_type": "code",
   "execution_count": 2,
   "id": "83e9b05d",
   "metadata": {
    "scrolled": true
   },
   "outputs": [
    {
     "data": {
      "text/plain": [
       "array([[1, 0],\n",
       "       [0, 1]])"
      ]
     },
     "execution_count": 2,
     "metadata": {},
     "output_type": "execute_result"
    }
   ],
   "source": [
    "B"
   ]
  },
  {
   "cell_type": "code",
   "execution_count": 5,
   "id": "e46809be",
   "metadata": {},
   "outputs": [
    {
     "data": {
      "text/plain": [
       "array([[1, 2],\n",
       "       [3, 4],\n",
       "       [1, 0],\n",
       "       [0, 1]])"
      ]
     },
     "execution_count": 5,
     "metadata": {},
     "output_type": "execute_result"
    }
   ],
   "source": [
    "C= np.vstack((A,B))\n",
    "C"
   ]
  },
  {
   "cell_type": "code",
   "execution_count": 6,
   "id": "f11b3a06",
   "metadata": {},
   "outputs": [
    {
     "data": {
      "text/plain": [
       "array([[1, 2, 1, 0],\n",
       "       [3, 4, 0, 1]])"
      ]
     },
     "execution_count": 6,
     "metadata": {},
     "output_type": "execute_result"
    }
   ],
   "source": [
    "D =np.hstack((A,B))\n",
    "D"
   ]
  },
  {
   "cell_type": "code",
   "execution_count": 11,
   "id": "b28acc34",
   "metadata": {},
   "outputs": [
    {
     "data": {
      "text/plain": [
       "array([[1, 2],\n",
       "       [3, 4],\n",
       "       [1, 0],\n",
       "       [0, 1]])"
      ]
     },
     "execution_count": 11,
     "metadata": {},
     "output_type": "execute_result"
    }
   ],
   "source": [
    "C1 = np.concatenate((A,B),axis=0)\n",
    "C1"
   ]
  },
  {
   "cell_type": "code",
   "execution_count": 12,
   "id": "7fc58fca",
   "metadata": {},
   "outputs": [
    {
     "data": {
      "text/plain": [
       "array([[1, 2, 1, 0],\n",
       "       [3, 4, 0, 1]])"
      ]
     },
     "execution_count": 12,
     "metadata": {},
     "output_type": "execute_result"
    }
   ],
   "source": [
    "D1 = np.concatenate((A,B),axis=1)\n",
    "D1"
   ]
  },
  {
   "cell_type": "markdown",
   "id": "2306d541",
   "metadata": {},
   "source": [
    "### 행렬의 분할\n",
    "- np.hsplit(행렬명, 분할개수)\n",
    "- np.vsplit(행렬명, 분할개수)"
   ]
  },
  {
   "cell_type": "code",
   "execution_count": 22,
   "id": "baa2b73f",
   "metadata": {},
   "outputs": [
    {
     "data": {
      "text/plain": [
       "array([[ 0,  1,  2,  3,  4,  5],\n",
       "       [ 6,  7,  8,  9, 10, 11],\n",
       "       [12, 13, 14, 15, 16, 17]])"
      ]
     },
     "execution_count": 22,
     "metadata": {},
     "output_type": "execute_result"
    }
   ],
   "source": [
    "# 3x3 행렬 만들기\n",
    "B=np.arange(18).reshape(3,6)\n",
    "B"
   ]
  },
  {
   "cell_type": "code",
   "execution_count": 23,
   "id": "abb3129d",
   "metadata": {},
   "outputs": [
    {
     "data": {
      "text/plain": [
       "[array([[ 0,  1],\n",
       "        [ 6,  7],\n",
       "        [12, 13]]),\n",
       " array([[ 2,  3],\n",
       "        [ 8,  9],\n",
       "        [14, 15]]),\n",
       " array([[ 4,  5],\n",
       "        [10, 11],\n",
       "        [16, 17]])]"
      ]
     },
     "execution_count": 23,
     "metadata": {},
     "output_type": "execute_result"
    }
   ],
   "source": [
    "b= np.hsplit(B,3)\n",
    "b"
   ]
  },
  {
   "cell_type": "code",
   "execution_count": 24,
   "id": "85235ac1",
   "metadata": {
    "scrolled": true
   },
   "outputs": [
    {
     "data": {
      "text/plain": [
       "[array([[ 0,  1],\n",
       "        [ 6,  7],\n",
       "        [12, 13]]),\n",
       " array([[ 2,  3,  4],\n",
       "        [ 8,  9, 10],\n",
       "        [14, 15, 16]]),\n",
       " array([[ 5],\n",
       "        [11],\n",
       "        [17]])]"
      ]
     },
     "execution_count": 24,
     "metadata": {},
     "output_type": "execute_result"
    }
   ],
   "source": [
    "b = np.hsplit(B,(2,5))\n",
    "b"
   ]
  },
  {
   "cell_type": "code",
   "execution_count": 28,
   "id": "5ac7e48d",
   "metadata": {},
   "outputs": [
    {
     "data": {
      "text/plain": [
       "array([[ 0,  1,  2,  3],\n",
       "       [ 4,  5,  6,  7],\n",
       "       [ 8,  9, 10, 11],\n",
       "       [12, 13, 14, 15],\n",
       "       [16, 17, 18, 19],\n",
       "       [20, 21, 22, 23]])"
      ]
     },
     "execution_count": 28,
     "metadata": {},
     "output_type": "execute_result"
    }
   ],
   "source": [
    "C = np.arange(24).reshape(6,4)\n",
    "C"
   ]
  },
  {
   "cell_type": "code",
   "execution_count": 29,
   "id": "d4ae4f5f",
   "metadata": {},
   "outputs": [
    {
     "data": {
      "text/plain": [
       "[array([[0, 1, 2, 3],\n",
       "        [4, 5, 6, 7]]),\n",
       " array([[ 8,  9, 10, 11],\n",
       "        [12, 13, 14, 15]]),\n",
       " array([[16, 17, 18, 19],\n",
       "        [20, 21, 22, 23]])]"
      ]
     },
     "execution_count": 29,
     "metadata": {},
     "output_type": "execute_result"
    }
   ],
   "source": [
    "c = np.vsplit(C,3)\n",
    "c"
   ]
  },
  {
   "cell_type": "code",
   "execution_count": 30,
   "id": "2a10a896",
   "metadata": {},
   "outputs": [
    {
     "data": {
      "text/plain": [
       "[array([[0, 1, 2, 3]]),\n",
       " array([[ 4,  5,  6,  7],\n",
       "        [ 8,  9, 10, 11]]),\n",
       " array([[12, 13, 14, 15],\n",
       "        [16, 17, 18, 19],\n",
       "        [20, 21, 22, 23]])]"
      ]
     },
     "execution_count": 30,
     "metadata": {},
     "output_type": "execute_result"
    }
   ],
   "source": [
    "c=np.vsplit(C,(1,3))\n",
    "c"
   ]
  },
  {
   "cell_type": "code",
   "execution_count": 31,
   "id": "dc1a137e",
   "metadata": {},
   "outputs": [
    {
     "data": {
      "text/plain": [
       "array([[0, 1, 2],\n",
       "       [3, 4, 5]])"
      ]
     },
     "execution_count": 31,
     "metadata": {},
     "output_type": "execute_result"
    }
   ],
   "source": [
    "A = np.arange(6).reshape(2,3)\n",
    "A"
   ]
  },
  {
   "cell_type": "code",
   "execution_count": 32,
   "id": "2fbd3395",
   "metadata": {},
   "outputs": [
    {
     "data": {
      "text/plain": [
       "array([[0, 1],\n",
       "       [2, 3]])"
      ]
     },
     "execution_count": 32,
     "metadata": {},
     "output_type": "execute_result"
    }
   ],
   "source": [
    "B = np.arange(4).reshape(2,2)\n",
    "B"
   ]
  },
  {
   "cell_type": "code",
   "execution_count": 35,
   "id": "987579ae",
   "metadata": {},
   "outputs": [
    {
     "data": {
      "text/plain": [
       "array([[0, 1, 2, 0, 1],\n",
       "       [3, 4, 5, 2, 3]])"
      ]
     },
     "execution_count": 35,
     "metadata": {},
     "output_type": "execute_result"
    }
   ],
   "source": [
    "C = np.hstack((A,B)) #vstack 은 붙지않음 broadcasting A=(2,3) B=(2,2) 세로는 3과2라서 붙지않음 가로는 2와 2가 같아서 붙이기 가능!!\n",
    " C"
   ]
  },
  {
   "cell_type": "code",
   "execution_count": 38,
   "id": "d31f8522",
   "metadata": {},
   "outputs": [
    {
     "data": {
      "text/plain": [
       "array([ 0,  2,  4,  6,  8, 10, 12, 14])"
      ]
     },
     "execution_count": 38,
     "metadata": {},
     "output_type": "execute_result"
    }
   ],
   "source": [
    "import numpy as np\n",
    "A=np.arange(0,15,2)\n",
    "A"
   ]
  },
  {
   "cell_type": "code",
   "execution_count": 45,
   "id": "cab095fa",
   "metadata": {},
   "outputs": [
    {
     "data": {
      "text/plain": [
       "array([ 0,  2,  4,  6,  8, 10])"
      ]
     },
     "execution_count": 45,
     "metadata": {},
     "output_type": "execute_result"
    }
   ],
   "source": [
    "length=len(A) #length=8\n",
    "A[0:length-2]"
   ]
  },
  {
   "cell_type": "code",
   "execution_count": 44,
   "id": "70f9d2f6",
   "metadata": {},
   "outputs": [
    {
     "data": {
      "text/plain": [
       "array([ 0,  2,  4,  6,  8, 10])"
      ]
     },
     "execution_count": 44,
     "metadata": {},
     "output_type": "execute_result"
    }
   ],
   "source": [
    "A[:-2]"
   ]
  },
  {
   "cell_type": "markdown",
   "id": "4687c68a",
   "metadata": {},
   "source": [
    "### 깊은복사 vs 얕은복사\n",
    "- 얕은 복사 : 데이터 공유\n",
    "- 깊은복사 : 완전한 복사본"
   ]
  },
  {
   "cell_type": "code",
   "execution_count": 46,
   "id": "bd8012dc",
   "metadata": {},
   "outputs": [
    {
     "data": {
      "text/plain": [
       "array([ 0,  1,  2,  3,  4,  5,  6,  7,  8,  9, 10, 11])"
      ]
     },
     "execution_count": 46,
     "metadata": {},
     "output_type": "execute_result"
    }
   ],
   "source": [
    "import numpy as np\n",
    "a= np.arange(12)\n",
    "a"
   ]
  },
  {
   "cell_type": "code",
   "execution_count": 47,
   "id": "1bad1afa",
   "metadata": {},
   "outputs": [
    {
     "data": {
      "text/plain": [
       "array([100,   1,   2,   3,   4,   5,   6,   7,   8,   9,  10,  11])"
      ]
     },
     "execution_count": 47,
     "metadata": {},
     "output_type": "execute_result"
    }
   ],
   "source": [
    "b=a #얕은복사 \n",
    "b[0]=100\n",
    "a"
   ]
  },
  {
   "cell_type": "code",
   "execution_count": 48,
   "id": "b7539440",
   "metadata": {},
   "outputs": [
    {
     "data": {
      "text/plain": [
       "True"
      ]
     },
     "execution_count": 48,
     "metadata": {},
     "output_type": "execute_result"
    }
   ],
   "source": [
    "a is b #동일한 메모리주소를 사용하고 있는가?"
   ]
  },
  {
   "cell_type": "code",
   "execution_count": 49,
   "id": "d63a77d9",
   "metadata": {},
   "outputs": [
    {
     "data": {
      "text/plain": [
       "array([ True,  True,  True,  True,  True,  True,  True,  True,  True,\n",
       "        True,  True,  True])"
      ]
     },
     "execution_count": 49,
     "metadata": {},
     "output_type": "execute_result"
    }
   ],
   "source": [
    "a == b # 값이 같은가?"
   ]
  },
  {
   "cell_type": "code",
   "execution_count": 50,
   "id": "76877aec",
   "metadata": {},
   "outputs": [
    {
     "name": "stdout",
     "output_type": "stream",
     "text": [
      "2214302021552\n",
      "2214302021552\n"
     ]
    }
   ],
   "source": [
    "print(id(a))\n",
    "print(id(b))"
   ]
  },
  {
   "cell_type": "code",
   "execution_count": 52,
   "id": "f0a68692",
   "metadata": {},
   "outputs": [
    {
     "data": {
      "text/plain": [
       "array([ 5,  5,  5,  5,  4,  5,  6,  7,  8,  9, 10, 11])"
      ]
     },
     "execution_count": 52,
     "metadata": {},
     "output_type": "execute_result"
    }
   ],
   "source": [
    "c=a.reshape(3,4)\n",
    "c[0]=5\n",
    "a"
   ]
  },
  {
   "cell_type": "code",
   "execution_count": 58,
   "id": "b7c4439a",
   "metadata": {},
   "outputs": [
    {
     "name": "stdout",
     "output_type": "stream",
     "text": [
      "2214302021552\n",
      "2214302021552\n"
     ]
    }
   ],
   "source": [
    "print(id(a))\n",
    "print(id(c.base))"
   ]
  },
  {
   "cell_type": "code",
   "execution_count": 59,
   "id": "4bb1b2aa",
   "metadata": {},
   "outputs": [
    {
     "data": {
      "text/plain": [
       "array([ 0,  1,  2,  3,  4,  5,  6,  7,  8,  9, 10, 11])"
      ]
     },
     "execution_count": 59,
     "metadata": {},
     "output_type": "execute_result"
    }
   ],
   "source": [
    "a = np.arange(12)\n",
    "a"
   ]
  },
  {
   "cell_type": "code",
   "execution_count": 60,
   "id": "a30efd2e",
   "metadata": {},
   "outputs": [
    {
     "data": {
      "text/plain": [
       "array([ True,  True,  True,  True,  True,  True,  True,  True,  True,\n",
       "        True,  True,  True])"
      ]
     },
     "execution_count": 60,
     "metadata": {},
     "output_type": "execute_result"
    }
   ],
   "source": [
    "b=a.copy()\n",
    "a==b"
   ]
  },
  {
   "cell_type": "code",
   "execution_count": 62,
   "id": "6f544c01",
   "metadata": {},
   "outputs": [
    {
     "data": {
      "text/plain": [
       "False"
      ]
     },
     "execution_count": 62,
     "metadata": {},
     "output_type": "execute_result"
    }
   ],
   "source": [
    "a is b"
   ]
  },
  {
   "cell_type": "code",
   "execution_count": 64,
   "id": "39c55828",
   "metadata": {},
   "outputs": [
    {
     "data": {
      "text/plain": [
       "False"
      ]
     },
     "execution_count": 64,
     "metadata": {},
     "output_type": "execute_result"
    }
   ],
   "source": [
    "a is b.base"
   ]
  },
  {
   "cell_type": "code",
   "execution_count": 83,
   "id": "ce6130a0",
   "metadata": {},
   "outputs": [
    {
     "data": {
      "text/plain": [
       "array([[ 0,  1,  2,  3],\n",
       "       [ 4,  5,  6,  7],\n",
       "       [ 8,  9, 10, 11],\n",
       "       [12, 13, 14, 15]])"
      ]
     },
     "execution_count": 83,
     "metadata": {},
     "output_type": "execute_result"
    }
   ],
   "source": [
    "A = np.arange(16).reshape(4,4)\n",
    "A                                    \n"
   ]
  },
  {
   "cell_type": "code",
   "execution_count": 84,
   "id": "495a38ea",
   "metadata": {},
   "outputs": [
    {
     "data": {
      "text/plain": [
       "array([[0, 1],\n",
       "       [4, 5]])"
      ]
     },
     "execution_count": 84,
     "metadata": {},
     "output_type": "execute_result"
    }
   ],
   "source": [
    "B = A[:2,:2].copy()\n",
    "B"
   ]
  },
  {
   "cell_type": "code",
   "execution_count": 85,
   "id": "8cd7bc86",
   "metadata": {},
   "outputs": [
    {
     "data": {
      "text/plain": [
       "array([[100, 100],\n",
       "       [100, 100]])"
      ]
     },
     "execution_count": 85,
     "metadata": {},
     "output_type": "execute_result"
    }
   ],
   "source": [
    "B[:]=100\n",
    "B"
   ]
  },
  {
   "cell_type": "code",
   "execution_count": 86,
   "id": "484704c8",
   "metadata": {},
   "outputs": [
    {
     "data": {
      "text/plain": [
       "array([[ 0,  1,  2,  3],\n",
       "       [ 4,  5,  6,  7],\n",
       "       [ 8,  9, 10, 11],\n",
       "       [12, 13, 14, 15]])"
      ]
     },
     "execution_count": 86,
     "metadata": {},
     "output_type": "execute_result"
    }
   ],
   "source": [
    "A"
   ]
  },
  {
   "cell_type": "markdown",
   "id": "9b0b5f2a",
   "metadata": {},
   "source": [
    "### broadcasting"
   ]
  },
  {
   "cell_type": "code",
   "execution_count": 89,
   "id": "43f7f743",
   "metadata": {},
   "outputs": [
    {
     "data": {
      "text/plain": [
       "array([[ 10,  20,  30,  40],\n",
       "       [ 50,  60,  70,  80],\n",
       "       [ 90, 100, 110, 120]])"
      ]
     },
     "execution_count": 89,
     "metadata": {},
     "output_type": "execute_result"
    }
   ],
   "source": [
    "import numpy as np\n",
    "A = np.arange(1,13).reshape(3,4)*10\n",
    "A\n"
   ]
  },
  {
   "cell_type": "code",
   "execution_count": 91,
   "id": "aac77623",
   "metadata": {},
   "outputs": [
    {
     "data": {
      "text/plain": [
       "array([1, 2, 3, 4])"
      ]
     },
     "execution_count": 91,
     "metadata": {},
     "output_type": "execute_result"
    }
   ],
   "source": [
    "B = np.arange(1,5)\n",
    "B"
   ]
  },
  {
   "cell_type": "code",
   "execution_count": 93,
   "id": "ac04f9c0",
   "metadata": {},
   "outputs": [
    {
     "data": {
      "text/plain": [
       "array([[ 11,  22,  33,  44],\n",
       "       [ 51,  62,  73,  84],\n",
       "       [ 91, 102, 113, 124]])"
      ]
     },
     "execution_count": 93,
     "metadata": {},
     "output_type": "execute_result"
    }
   ],
   "source": [
    "A+B"
   ]
  },
  {
   "cell_type": "code",
   "execution_count": 109,
   "id": "37bd66ff",
   "metadata": {},
   "outputs": [
    {
     "data": {
      "text/plain": [
       "array([1, 2, 3])"
      ]
     },
     "execution_count": 109,
     "metadata": {},
     "output_type": "execute_result"
    }
   ],
   "source": [
    "B2 = np.arange(1,4)\n",
    "B2"
   ]
  },
  {
   "cell_type": "code",
   "execution_count": 110,
   "id": "41195da0",
   "metadata": {},
   "outputs": [
    {
     "ename": "ValueError",
     "evalue": "operands could not be broadcast together with shapes (4,4) (3,) ",
     "output_type": "error",
     "traceback": [
      "\u001b[1;31m---------------------------------------------------------------------------\u001b[0m",
      "\u001b[1;31mValueError\u001b[0m                                Traceback (most recent call last)",
      "Cell \u001b[1;32mIn[110], line 1\u001b[0m\n\u001b[1;32m----> 1\u001b[0m A\u001b[38;5;241m+\u001b[39mB2\n",
      "\u001b[1;31mValueError\u001b[0m: operands could not be broadcast together with shapes (4,4) (3,) "
     ]
    }
   ],
   "source": [
    "A+B2"
   ]
  },
  {
   "cell_type": "code",
   "execution_count": 102,
   "id": "2479d538",
   "metadata": {},
   "outputs": [
    {
     "data": {
      "text/plain": [
       "array([[1, 1, 1, 1],\n",
       "       [1, 1, 1, 1],\n",
       "       [1, 1, 1, 1],\n",
       "       [1, 1, 1, 1]], dtype=uint8)"
      ]
     },
     "execution_count": 102,
     "metadata": {},
     "output_type": "execute_result"
    }
   ],
   "source": [
    "A = np.ones((4,4),dtype=np.uint8)\n",
    "A"
   ]
  },
  {
   "cell_type": "code",
   "execution_count": 112,
   "id": "01a42bc6",
   "metadata": {},
   "outputs": [
    {
     "data": {
      "text/plain": [
       "array([[101, 101, 101, 101],\n",
       "       [101, 101, 101, 101],\n",
       "       [101, 101, 101, 101],\n",
       "       [101, 101, 101, 101]], dtype=uint8)"
      ]
     },
     "execution_count": 112,
     "metadata": {},
     "output_type": "execute_result"
    }
   ],
   "source": [
    "A+100"
   ]
  },
  {
   "cell_type": "code",
   "execution_count": 2,
   "id": "bcdd9ff3",
   "metadata": {},
   "outputs": [
    {
     "data": {
      "image/png": "[encoded data removed]",
      "text/plain": [
       "<Figure size 640x480 with 1 Axes>"
      ]
     },
     "metadata": {},
     "output_type": "display_data"
    }
   ],
   "source": [
    "import numpy as np\n",
    "import matplotlib.pyplot as plt \n",
    "\n",
    "\n",
    "# 좌표 (4, 3) 지정\n",
    "a = np.array([4, 3])\n",
    "\n",
    "\n",
    "# Figure 객체를 만든 후, \n",
    "fig = plt.figure() \n",
    "# 1 x 1 개의 써브플롯(subplot)을 추가하고 첫번째 써브플롯을 사용합니다. \n",
    "ax = fig.add_subplot(1, 1, 1)\n",
    "\n",
    "\n",
    "# 변수 a의 값을 좌표로 사용하여 점을 그립니다.\n",
    "# a[0]이 x좌표, a[1]이 y좌표입니다. s는 점의 크기입니다. \n",
    "ax.scatter(a[0], a[1], s=30)\n",
    "\n",
    "# 점 옆에 문자 a를 표시합니다. size는 문자열의 크기입니다. \n",
    "ax.text(a[0]+0.2, a[1]+0.2, 'a', size=15)\n",
    "\n",
    "\n",
    "# x축, y축 눈금 범위를 -5 ~ 5로 지정합니다. \n",
    "ax.set_xticks(range(-1, 6))\n",
    "ax.set_yticks(range(-1, 6))\n",
    "\n",
    "# 그리드를 좌표축 아래에 표시합니다. \n",
    "ax.grid()\n",
    "ax.set_axisbelow(True)\n",
    "\n",
    "# x축과 y측 눈금의 비율을 1:1로 합니다. \n",
    "# 창의 크기를 변경해도 비율이 유지됩니다. \n",
    "ax.set_aspect('equal', adjustable='box')\n",
    "\n",
    "\n",
    "# 다음 코드를 사용하여 원점에 좌표축이 보이게 합니다.\n",
    "# 왼쪽 y축과 아래 x축을 (0,0)으로 이동합니다. \n",
    "ax.spines['left'].set_position('zero')\n",
    "ax.spines['bottom'].set_position('zero')\n",
    "\n",
    "# 위쪽과 오른쪽 축을 제거합니다.\n",
    "ax.spines['right'].set_color('none')\n",
    "ax.spines['top'].set_color('none')\n",
    "\n",
    "\n",
    "# 화면에 그래프가 그려진 창을 보여줍니다. \n",
    "plt.show()"
   ]
  },
  {
   "cell_type": "code",
   "execution_count": 3,
   "id": "065daa89",
   "metadata": {},
   "outputs": [
    {
     "data": {
      "image/png": "[encoded data removed]",
      "text/plain": [
       "<Figure size 640x480 with 2 Axes>"
      ]
     },
     "metadata": {},
     "output_type": "display_data"
    }
   ],
   "source": [
    "import numpy as np\n",
    "import matplotlib.pyplot as plt\n",
    "\n",
    "\n",
    "# 벡터 A와 B를 생성합니다. \n",
    "A = np.array([1, -2])\n",
    "B = np.array([4, 3])\n",
    "\n",
    "\n",
    "# 1개의 행과 2개의 열을 가지는 서브플롯을 생성합니다. \n",
    "f, ax= plt.subplots(1, 2)\n",
    "\n",
    "# 다음처럼 인덱스를 사용하여 각 서브플롯을 사용합니다.\n",
    "# 각 서브플롯 상단에 텍스트 추가합니다.\n",
    "ax[0].title.set_text('A')\n",
    "ax[1].title.set_text('B')\n",
    "\n",
    "\n",
    "# 각 서브플롯에 시작점이 (0,0)인 벡터를 그립니다.\n",
    "ax[0].quiver(0, 0, A[0], A[1], angles='xy', scale_units='xy', scale=1)\n",
    "ax[1].quiver(0, 0, B[0], B[1], angles='xy', scale_units='xy', scale=1)\n",
    "\n",
    "# 서브플롯별로 그리드를 생성합니다.\n",
    "start_x = -1\n",
    "end_x = 5\n",
    "start_y = -3\n",
    "end_y = 4\n",
    "for i in range(2):\n",
    "    ax[i].axis([start_x, end_x, start_y, end_y])\n",
    "    ax[i].set_xticks(range(start_x, end_x))\n",
    "    ax[i].set_yticks(range(start_y, end_y))\n",
    "    ax[i].grid(True)\n",
    "    ax[i].set_aspect('equal', adjustable='box')\n",
    "\n",
    "\n",
    "plt.show()"
   ]
  },
  {
   "cell_type": "code",
   "execution_count": 4,
   "id": "d3423d8d",
   "metadata": {
    "scrolled": true
   },
   "outputs": [
    {
     "data": {
      "image/png": "[encoded data removed]",
      "text/plain": [
       "<Figure size 640x480 with 1 Axes>"
      ]
     },
     "metadata": {},
     "output_type": "display_data"
    }
   ],
   "source": [
    "import numpy as np\n",
    "import matplotlib.pyplot as plt\n",
    "\n",
    "# 3차원 그래프를 그리기 위해 추가해야 하는 모듈입니다. \n",
    "from mpl_toolkits.mplot3d import Axes3D\n",
    "\n",
    "\n",
    "# 3차원 벡터 a\n",
    "a = np.array([4, 5, 6])\n",
    "\n",
    "\n",
    "fig = plt.figure() \n",
    "\n",
    "# 써브플롯에서 3차원 좌표계를 사용하도록 합니다. \n",
    "ax = fig.add_subplot(1, 1, 1, projection='3d')\n",
    "\n",
    "\n",
    "# 시작점이 (0,0,0)이고 끝점 좌표가 변수 a의 값인  화살표를 그립니다. \n",
    "# a[0], a[1], a[2]가 각각 x, y, z 좌표입니다. \n",
    "ax.quiver(0, 0, 0, a[0], a[1], a[2], color='black', arrow_length_ratio=0.1)\n",
    "ax.text( a[0], a[1], a[2], 'a', size=15)\n",
    "\n",
    "\n",
    "# x, y, z 좌표축 범위가 각각 0~8인 그리드를 생성합니다. \n",
    "ax.set_xlim(0, 8)\n",
    "ax.set_ylim(0, 8)\n",
    "ax.set_zlim(0, 8)\n",
    "ax.set_xlabel('X')\n",
    "ax.set_ylabel('Y')\n",
    "ax.set_zlabel('Z')\n",
    "ax.view_init(elev=20., azim=5)\n",
    "ax.grid()\n",
    "ax.set_axisbelow(True)\n",
    "ax.set_aspect('equal', adjustable='box')\n",
    "\n",
    "plt.show()\n"
   ]
  },
  {
   "cell_type": "code",
   "execution_count": 9,
   "id": "273949d9",
   "metadata": {},
   "outputs": [
    {
     "data": {
      "image/png": "[encoded data removed]",
      "text/plain": [
       "<Figure size 640x480 with 1 Axes>"
      ]
     },
     "metadata": {},
     "output_type": "display_data"
    }
   ],
   "source": [
    "import numpy as np\n",
    "import matplotlib.pyplot as plt\n",
    "\n",
    "\n",
    "a = np.array([4, 1])\n",
    "b = np.array([-2, 3])\n",
    "sum = a + b\n",
    "\n",
    "\n",
    "fig = plt.figure() \n",
    "ax = fig.add_subplot(1, 1, 1)\n",
    "\n",
    "\n",
    "# 벡터 a를 원점에서 시작하도록 그립니다.\n",
    "ax.quiver(0, 0, a[0], a[1], angles='xy', scale_units='xy', scale=1)\n",
    "ax.text(a[0], a[1], \"a\", size=15)\n",
    "\n",
    "# 벡터 b를 벡터 a의 끝점에서 시작하도록 그립니다.\n",
    "ax.quiver(a[0], a[1], b[0], b[1], angles='xy', scale_units='xy', scale=1)\n",
    "ax.text(a[0]+b[0], a[1]+b[1], \"b\", size=15)\n",
    "\n",
    "# 벡터의 합을 그리면 벡터 a의 시작점과 벡터 b의 끝점을 잇는 벡터가 그려집니다.\n",
    "ax.quiver(0, 0, sum[0], sum[1], angles='xy', scale_units='xy', scale=1, color='blue')\n",
    "ax.text(sum[0]*0.5+0.3, sum[1]*0.5, \"a+b\", size=15, color='blue')\n",
    "\n",
    "ax.quiver(a[0], a[1], -b[0], -b[1], angles='xy', scale_units='xy', scale=1)\n",
    "ax.text(a[0]-b[0], a[1]-b[1], \"-b\", size=15)\n",
    "\n",
    "sub = a - b\n",
    "\n",
    "ax.quiver(0, 0, sub[0], sub[1], angles='xy', scale_units='xy', scale=1, color='red')\n",
    "ax.text(sub[0]*0.5+0.3, sub[1]*0.5, \"a-b\", size=15, color='red')\n",
    "\n",
    "\n",
    "ax.set_xticks(range(0, 8))\n",
    "ax.set_yticks(range(-3,6))\n",
    "ax.grid()\n",
    "ax.set_axisbelow(True)\n",
    "ax.set_aspect('equal', adjustable='box')\n",
    "\n",
    "\n",
    "ax.spines['left'].set_position('zero')\n",
    "ax.spines['bottom'].set_position('zero')\n",
    "ax.spines['right'].set_color('none')\n",
    "ax.spines['top'].set_color('none')\n",
    "\n",
    "\n",
    "plt.show()\n"
   ]
  },
  {
   "cell_type": "code",
   "execution_count": 7,
   "id": "1738dfa6",
   "metadata": {},
   "outputs": [
    {
     "data": {
      "image/png": "[encoded data removed]",
      "text/plain": [
       "<Figure size 640x480 with 1 Axes>"
      ]
     },
     "metadata": {},
     "output_type": "display_data"
    }
   ],
   "source": [
    "import numpy as np\n",
    "import matplotlib.pyplot as plt\n",
    "\n",
    "\n",
    "a = np.array([4, 1])\n",
    "c = 3\n",
    "ca = np.multiply(c, a)\n",
    "\n",
    "\n",
    "fig = plt.figure() \n",
    "ax = fig.add_subplot(1, 1, 1)\n",
    "\n",
    "\n",
    "# 벡터 a를 그립니다.\n",
    "plt.quiver(0, 0, a[0], a[1], angles='xy', scale_units='xy', scale=1)\n",
    "plt.text(a[0], a[1], 'a', size=15)\n",
    "\n",
    "# 벡터 a에 3을 곱한 결과를 그립니다. 시작점을 (0,1)로 이동하여 그렸습니다. \n",
    "plt.quiver(0, 1, ca[0], ca[1], angles='xy', scale_units='xy', scale=1, color='blue')\n",
    "plt.text(ca[0], ca[1]+1, '3a', size=15, color='blue')\n",
    "\n",
    "\n",
    "ax.set_xticks(range(-2, 15))\n",
    "ax.set_yticks(range(-3, 9))\n",
    "ax.grid()\n",
    "ax.set_axisbelow(True)\n",
    "ax.set_aspect('equal', adjustable='box')\n",
    "\n",
    "\n",
    "ax.spines['left'].set_position('zero')\n",
    "ax.spines['bottom'].set_position('zero')\n",
    "ax.spines['right'].set_color('none')\n",
    "ax.spines['top'].set_color('none')\n",
    "\n",
    "\n",
    "plt.show()\n"
   ]
  },
  {
   "cell_type": "code",
   "execution_count": null,
   "id": "2f00ad35",
   "metadata": {},
   "outputs": [],
   "source": []
  }
 ],
 "metadata": {
  "kernelspec": {
   "display_name": "Python 3 (ipykernel)",
   "language": "python",
   "name": "python3"
  },
  "language_info": {
   "codemirror_mode": {
    "name": "ipython",
    "version": 3
   },
   "file_extension": ".py",
   "mimetype": "text/x-python",
   "name": "python",
   "nbconvert_exporter": "python",
   "pygments_lexer": "ipython3",
   "version": "3.11.5"
  }
 },
 "nbformat": 4,
 "nbformat_minor": 5
}
