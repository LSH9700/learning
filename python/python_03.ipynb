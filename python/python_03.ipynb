{
 "cells": [
  {
   "cell_type": "markdown",
   "id": "216f0abf",
   "metadata": {},
   "source": [
    "### 이차원 리스트 수정, 추가"
   ]
  },
  {
   "cell_type": "code",
   "execution_count": 1,
   "id": "3d87ede5",
   "metadata": {},
   "outputs": [
    {
     "name": "stdout",
     "output_type": "stream",
     "text": [
      "49 79 20 43 59 85 49 79 48 \n"
     ]
    }
   ],
   "source": [
    "kor_score = [49, 79, 20, 100, 80]\n",
    "math_score = [43, 59, 85, 30, 90]\n",
    "eng_score = [49, 79, 48, 60, 100]\n",
    "midterm_score = [kor_score,math_score,eng_score]\n",
    "\n",
    "# for class_score in midterm_score:\n",
    "#     for score in class_score:\n",
    "#         print(score,\" \",end=\" \")\n",
    "#     print()\n",
    "\n",
    "for i in range(len(midterm_score)):\n",
    "    for j in range(len(midterm_score)):\n",
    "        print(midterm_score[i][j],end=\" \")\n",
    "            \n",
    "print()\n"
   ]
  },
  {
   "cell_type": "code",
   "execution_count": 2,
   "id": "e7b5b38e",
   "metadata": {
    "scrolled": true
   },
   "outputs": [
    {
     "name": "stdout",
     "output_type": "stream",
     "text": [
      "정수지님은 수상자가 아닙니다.\n",
      "박민아님은 수상자 입니다\n",
      "아이유님은 수상자가 아닙니다.\n"
     ]
    }
   ],
   "source": [
    "winners =['박민아','정민호','김철수','이영희','손수정']\n",
    "# 정수지가 상을 탔나요?\n",
    "name ='정수지'\n",
    "if (name in winners):\n",
    "    print(f\"{name}님은 수상자 입니다\")\n",
    "else:\n",
    "    print(f\"{name}님은 수상자가 아닙니다.\")\n",
    "    \n",
    "name ='박민아'\n",
    "if (name in winners):\n",
    "    print(f\"{name}님은 수상자 입니다\")\n",
    "else:\n",
    "    print(f\"{name}님은 수상자가 아닙니다.\")\n",
    "\n",
    "name ='아이유'\n",
    "if (name in winners):\n",
    "    print(f\"{name}님은 수상자 입니다\")\n",
    "else:\n",
    "    print(f\"{name}님은 수상자가 아닙니다.\")"
   ]
  },
  {
   "cell_type": "code",
   "execution_count": 8,
   "id": "b557386b",
   "metadata": {},
   "outputs": [
    {
     "name": "stdout",
     "output_type": "stream",
     "text": [
      "검색할 이름 입력 :q\n",
      "프로그램을 종료합니다.\n"
     ]
    }
   ],
   "source": [
    "winners =['박민아','정민호','김철수','이영희','손수정']\n",
    "# 1) input으로 입력을 받고 입력받은 이름이 수상자인지 확인하라\n",
    "# 2) while 문을 사용하여 무한 반복을 수행하고 'q'를 누르면 종료하라\n",
    "\n",
    "search_name = input(\"검색할 이름 입력 :\")\n",
    "\n",
    "while search_name != 'q':\n",
    "    if search_name in winners:\n",
    "        print(f\"{search_name}님은 수상자입니다.\")\n",
    "    else:\n",
    "        print(f\"{search_name}님은 수상자 명단에 없습니다.\")\n",
    "    search_name = input(\"검색할 이름 입력 >\")\n",
    "    \n",
    "print(\"프로그램을 종료합니다.\")"
   ]
  },
  {
   "cell_type": "markdown",
   "id": "392b365b",
   "metadata": {},
   "source": [
    "### 리스트 메모리"
   ]
  },
  {
   "cell_type": "code",
   "execution_count": 7,
   "id": "892a0772",
   "metadata": {},
   "outputs": [
    {
     "name": "stdout",
     "output_type": "stream",
     "text": [
      "[[100, 79, 20, 100, 80], [43, 59, 85, 30, 90], [49, 79, 48, 60, 100]]\n"
     ]
    }
   ],
   "source": [
    "kor_score = [49, 79, 20, 100, 80]\n",
    "math_score = [43, 59, 85, 30, 90]\n",
    "eng_score = [49, 79, 48, 60, 100]\n",
    "midterm_score = [kor_score,math_score,eng_score]\n",
    "kor_score[0]=100\n",
    "print(midterm_score)"
   ]
  },
  {
   "cell_type": "markdown",
   "id": "ee10604c",
   "metadata": {},
   "source": [
    "### SET\n"
   ]
  },
  {
   "cell_type": "code",
   "execution_count": 9,
   "id": "91d03b11",
   "metadata": {},
   "outputs": [
    {
     "data": {
      "text/plain": [
       "{1, 2, 3}"
      ]
     },
     "execution_count": 9,
     "metadata": {},
     "output_type": "execute_result"
    }
   ],
   "source": [
    "s={1,2,3}\n",
    "s"
   ]
  },
  {
   "cell_type": "code",
   "execution_count": 10,
   "id": "56519b8a",
   "metadata": {},
   "outputs": [
    {
     "data": {
      "text/plain": [
       "{2, 3}"
      ]
     },
     "execution_count": 10,
     "metadata": {},
     "output_type": "execute_result"
    }
   ],
   "source": [
    "s.remove(1)\n",
    "s"
   ]
  },
  {
   "cell_type": "code",
   "execution_count": 13,
   "id": "64f42547",
   "metadata": {},
   "outputs": [
    {
     "data": {
      "text/plain": [
       "{2, 3, 4, 5, 6, 7}"
      ]
     },
     "execution_count": 13,
     "metadata": {},
     "output_type": "execute_result"
    }
   ],
   "source": [
    "s.update([4,5,6,7])\n",
    "s"
   ]
  },
  {
   "cell_type": "code",
   "execution_count": 18,
   "id": "f15947d9",
   "metadata": {},
   "outputs": [
    {
     "data": {
      "text/plain": [
       "{2, 3, 4, 6, 7}"
      ]
     },
     "execution_count": 18,
     "metadata": {},
     "output_type": "execute_result"
    }
   ],
   "source": [
    "s.discard(5)\n",
    "s"
   ]
  },
  {
   "cell_type": "code",
   "execution_count": 19,
   "id": "be279543",
   "metadata": {},
   "outputs": [
    {
     "data": {
      "text/plain": [
       "set()"
      ]
     },
     "execution_count": 19,
     "metadata": {},
     "output_type": "execute_result"
    }
   ],
   "source": [
    "s.clear()\n",
    "s\n"
   ]
  },
  {
   "cell_type": "code",
   "execution_count": 23,
   "id": "469ad0e1",
   "metadata": {},
   "outputs": [],
   "source": [
    "s1= set([1,2,3,4,5])\n",
    "s2 =set([3,4,5,6,7])"
   ]
  },
  {
   "cell_type": "code",
   "execution_count": 24,
   "id": "7bd6632a",
   "metadata": {},
   "outputs": [
    {
     "data": {
      "text/plain": [
       "{1, 2, 3, 4, 5, 6, 7}"
      ]
     },
     "execution_count": 24,
     "metadata": {},
     "output_type": "execute_result"
    }
   ],
   "source": [
    "s1|s2 #union :합집합 s1.union(s2)"
   ]
  },
  {
   "cell_type": "code",
   "execution_count": 25,
   "id": "ce478890",
   "metadata": {},
   "outputs": [
    {
     "data": {
      "text/plain": [
       "{3, 4, 5}"
      ]
     },
     "execution_count": 25,
     "metadata": {},
     "output_type": "execute_result"
    }
   ],
   "source": [
    "s1&s2 #intersection : 교집합 s1.intersection(s2)"
   ]
  },
  {
   "cell_type": "code",
   "execution_count": 26,
   "id": "4d5d6d33",
   "metadata": {},
   "outputs": [
    {
     "data": {
      "text/plain": [
       "{1, 2}"
      ]
     },
     "execution_count": 26,
     "metadata": {},
     "output_type": "execute_result"
    }
   ],
   "source": [
    "s1-s2 # difference :차집합 s1.difference(s2)"
   ]
  },
  {
   "cell_type": "code",
   "execution_count": 27,
   "id": "e7cb9740",
   "metadata": {
    "scrolled": true
   },
   "outputs": [
    {
     "data": {
      "text/plain": [
       "{1, 2, 6, 7}"
      ]
     },
     "execution_count": 27,
     "metadata": {},
     "output_type": "execute_result"
    }
   ],
   "source": [
    "s1^s2 #symmetric_difference :대칭 차집합 s1.symmetric_difference(s2)"
   ]
  },
  {
   "cell_type": "code",
   "execution_count": 32,
   "id": "fc32d726",
   "metadata": {},
   "outputs": [
    {
     "name": "stdout",
     "output_type": "stream",
     "text": [
      "첫번쨰 수 >10\n",
      "두번쨰 수 >20\n",
      "n1의 약수 : {1, 2, 10, 5}\n",
      "n2의 약수 : {1, 2, 4, 5, 10, 20}\n"
     ]
    },
    {
     "data": {
      "text/plain": [
       "{1, 2, 5, 10}"
      ]
     },
     "execution_count": 32,
     "metadata": {},
     "output_type": "execute_result"
    }
   ],
   "source": [
    "n1 = int(input(\"첫번쨰 수 >\"))\n",
    "n2 = int(input(\"두번쨰 수 >\"))\n",
    "\n",
    "\n",
    "\n",
    "# n1=10\n",
    "# n2=20\n",
    "\n",
    "set_n1=set()\n",
    "set_n2=set()\n",
    "\n",
    "#첫번째 약수 구하기\n",
    "for i in range(1,n1+1):\n",
    "    if n1%i==0:\n",
    "        set_n1.add(i)\n",
    "print(\"n1의 약수 :\",set_n1)\n",
    "\n",
    "#두번째 약수 구하기\n",
    "for i in range(1,n2+1):\n",
    "    if n2%i==0:\n",
    "        set_n2.add(i)\n",
    "print(\"n2의 약수 :\",set_n2)\n",
    "\n",
    "#n1과 n2의 공약수 구하기(교집합)\n",
    "set_n1&set_n2"
   ]
  },
  {
   "cell_type": "code",
   "execution_count": 64,
   "id": "0c560e21",
   "metadata": {},
   "outputs": [
    {
     "name": "stdout",
     "output_type": "stream",
     "text": [
      "로또 번호 1: [7, 11, 13, 14, 24, 27]\n",
      "로또 번호 2: [13, 26, 30, 37, 38, 43]\n",
      "로또 번호 3: [13, 14, 26, 32, 35, 43]\n",
      "로또 번호 4: [6, 20, 21, 29, 34, 37]\n",
      "로또 번호 5: [2, 21, 29, 35, 38, 45]\n"
     ]
    }
   ],
   "source": [
    "import random\n",
    "\n",
    "def generate_lotto_numbers():\n",
    "    # 1부터 45까지의 숫자 중에서 6개를 무작위로 선택하여 set에 저장\n",
    "    lotto_numbers = set(random.sample(range(1, 46), 6))\n",
    "    return lotto_numbers\n",
    "\n",
    "def main():\n",
    "    # 5번의 랜덤 로또 번호 생성 및 출력\n",
    "    for i in range(5):\n",
    "        lotto_numbers = generate_lotto_numbers()\n",
    "        print(f\"로또 번호 {i + 1}: {sorted(list(lotto_numbers))}\")\n",
    "\n",
    "if __name__ == \"__main__\":\n",
    "    main()"
   ]
  },
  {
   "cell_type": "code",
   "execution_count": 75,
   "id": "b11b3d43",
   "metadata": {},
   "outputs": [
    {
     "name": "stdout",
     "output_type": "stream",
     "text": [
      "물건의 이름을 입력하세요 > 책\n",
      "5\n"
     ]
    }
   ],
   "source": [
    "items = {\"커피음료\":7, \"펜\":3, \"종이컵\":2, \"우유\":1, \"콜라\":4, \"책\":5}\n",
    "# 커피음료의 개수?\n",
    "search_item = input('물건의 이름을 입력하세요 > ')\n",
    "if search_item in items.keys():\n",
    "    print(items[search_item])\n",
    "else:\n",
    "    print('검색한 물품은 재고가 없습니다.')"
   ]
  },
  {
   "cell_type": "code",
   "execution_count": 91,
   "id": "b8066796",
   "metadata": {},
   "outputs": [
    {
     "name": "stdout",
     "output_type": "stream",
     "text": [
      "엔터키를 누르면 카드가 나옵니다. 'q'를 누르면 종료합니다.a\n",
      "이번에 나온 카드는 6♣입니다.\n",
      "엔터키를 누르면 카드가 나옵니다. 'q'를 누르면 종료합니다.\n",
      "이번에 나온 카드는 4♣입니다.\n",
      "엔터키를 누르면 카드가 나옵니다. 'q'를 누르면 종료합니다.\n",
      "이번에 나온 카드는 J♠입니다.\n",
      "엔터키를 누르면 카드가 나옵니다. 'q'를 누르면 종료합니다.\n",
      "이번에 나온 카드는 5♣입니다.\n",
      "엔터키를 누르면 카드가 나옵니다. 'q'를 누르면 종료합니다.\n",
      "이번에 나온 카드는 K♥입니다.\n",
      "엔터키를 누르면 카드가 나옵니다. 'q'를 누르면 종료합니다.q\n"
     ]
    }
   ],
   "source": [
    "import random\n",
    "card_N = ['1','2','3','4','5','6','7','8','9','10','J','Q','K']\n",
    "card_T = [\"♠\",\"♥\", \"♣\", \"◆\"]\n",
    "card = set()\n",
    "for a in card_N:\n",
    "    for b in card_T:\n",
    "        card.add(a+b)\n",
    "while True:\n",
    "    a = input(\"엔터키를 누르면 카드가 나옵니다. 'q'를 누르면 종료합니다.\")\n",
    "    if a == 'q':\n",
    "            break\n",
    "    This_c = card.pop()\n",
    "    print(\"이번에 나온 카드는 %s입니다.\" %This_c)"
   ]
  },
  {
   "cell_type": "code",
   "execution_count": 115,
   "id": "75a6998f",
   "metadata": {},
   "outputs": [
    {
     "name": "stdout",
     "output_type": "stream",
     "text": [
      "[200, 300, 500, 800]\n"
     ]
    }
   ],
   "source": [
    "a = {\"연필\":200,\"펜\":800,\"지우개\":500,\"자\":300}\n",
    "a=list(a.values())\n",
    "print(sorted(a))"
   ]
  }
 ],
 "metadata": {
  "kernelspec": {
   "display_name": "Python 3 (ipykernel)",
   "language": "python",
   "name": "python3"
  },
  "language_info": {
   "codemirror_mode": {
    "name": "ipython",
    "version": 3
   },
   "file_extension": ".py",
   "mimetype": "text/x-python",
   "name": "python",
   "nbconvert_exporter": "python",
   "pygments_lexer": "ipython3",
   "version": "3.11.5"
  }
 },
 "nbformat": 4,
 "nbformat_minor": 5
}
