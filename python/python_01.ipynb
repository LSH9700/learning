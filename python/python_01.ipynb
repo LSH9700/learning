{
 "cells": [
  {
   "cell_type": "markdown",
   "id": "b0ee7de3",
   "metadata": {},
   "source": [
    "참조 : markdown사용법: https://gist.github.com/ihoneymon/652be052a0727ad59601"
   ]
  },
  {
   "cell_type": "markdown",
   "id": "42774372",
   "metadata": {},
   "source": [
    "## 파이썬 자료형\n",
    "``` \n",
    "   변수명 = 저장할 값\n",
    "```"
   ]
  },
  {
   "cell_type": "code",
   "execution_count": 3,
   "id": "ed527c46",
   "metadata": {},
   "outputs": [
    {
     "name": "stdout",
     "output_type": "stream",
     "text": [
      "100\n"
     ]
    }
   ],
   "source": [
    "x = 100\n",
    "print(x)"
   ]
  },
  {
   "cell_type": "markdown",
   "id": "ee617a10",
   "metadata": {},
   "source": [
    "##### 변수 2개 생성"
   ]
  },
  {
   "cell_type": "code",
   "execution_count": 8,
   "id": "a9cd7420",
   "metadata": {
    "scrolled": true
   },
   "outputs": [
    {
     "name": "stdout",
     "output_type": "stream",
     "text": [
      "100 200\n"
     ]
    }
   ],
   "source": [
    "x=100\n",
    "y=200\n",
    "print(x,y)"
   ]
  },
  {
   "cell_type": "markdown",
   "id": "5e09d776",
   "metadata": {},
   "source": [
    "##### 연산사용"
   ]
  },
  {
   "cell_type": "code",
   "execution_count": 2,
   "id": "a886d57f",
   "metadata": {},
   "outputs": [
    {
     "name": "stdout",
     "output_type": "stream",
     "text": [
      "300\n"
     ]
    }
   ],
   "source": [
    "x=100\n",
    "y=200\n",
    "sum = x+y\n",
    "print(sum)"
   ]
  },
  {
   "cell_type": "markdown",
   "id": "54ffeaf0",
   "metadata": {},
   "source": [
    "##### 변수에 문자열도 저장 가능"
   ]
  },
  {
   "cell_type": "code",
   "execution_count": 4,
   "id": "eb690fd1",
   "metadata": {
    "scrolled": true
   },
   "outputs": [
    {
     "name": "stdout",
     "output_type": "stream",
     "text": [
      "홍길동\n",
      "대구시 동구 신암동 100\n"
     ]
    }
   ],
   "source": [
    "name = '홍길동'\n",
    "address = '대구시 동구 신암동 100'\n",
    "print(name)\n",
    "print(address)"
   ]
  },
  {
   "cell_type": "code",
   "execution_count": 5,
   "id": "ddc5283c",
   "metadata": {},
   "outputs": [
    {
     "name": "stdout",
     "output_type": "stream",
     "text": [
      "12\n",
      "a+b\n"
     ]
    }
   ],
   "source": [
    "a = 7\n",
    "b = 5\n",
    "print(a+b)\n",
    "print('a+b')"
   ]
  },
  {
   "cell_type": "markdown",
   "id": "b3c74fee",
   "metadata": {},
   "source": [
    "###### 문자열은 덧셈을 하면 두문자를 연결한다"
   ]
  },
  {
   "cell_type": "code",
   "execution_count": 6,
   "id": "c21f40b5",
   "metadata": {
    "scrolled": true
   },
   "outputs": [
    {
     "name": "stdout",
     "output_type": "stream",
     "text": [
      "13\n",
      "76\n"
     ]
    }
   ],
   "source": [
    "x=7\n",
    "y=6\n",
    "print(x+y) # 7+6 = 13\n",
    "x='7'\n",
    "y='6'\n",
    "print(x+y) # '7'+'6' = '76'"
   ]
  },
  {
   "cell_type": "markdown",
   "id": "0b240353",
   "metadata": {},
   "source": [
    "### 파이썬의 변수\n",
    "- 의미있는 이름을 사용\n",
    "- 소문자 대문자 구분\n",
    "- 변수는 영문자, 숫자, 밑줄( _ ) 사용\n",
    "- 변수의 이름에 공백 사용금지\n",
    "- 특별한 예약어 사용불가"
   ]
  },
  {
   "cell_type": "code",
   "execution_count": 7,
   "id": "874adb70",
   "metadata": {},
   "outputs": [],
   "source": [
    "## 사용가능 변수\n",
    "sum = 3\n",
    "_count = 3\n",
    "number_of_picture = 3\n",
    "king3 = \"henry\""
   ]
  },
  {
   "cell_type": "code",
   "execution_count": 8,
   "id": "3610561b",
   "metadata": {
    "scrolled": true
   },
   "outputs": [
    {
     "ename": "SyntaxError",
     "evalue": "invalid decimal literal (154014854.py, line 2)",
     "output_type": "error",
     "traceback": [
      "\u001b[1;36m  Cell \u001b[1;32mIn[8], line 2\u001b[1;36m\u001b[0m\n\u001b[1;33m    2nd_base   # 숫자로 시작 불가\u001b[0m\n\u001b[1;37m    ^\u001b[0m\n\u001b[1;31mSyntaxError\u001b[0m\u001b[1;31m:\u001b[0m invalid decimal literal\n"
     ]
    }
   ],
   "source": [
    "#사용 불가 변수\n",
    "2nd_base   # 숫자로 시작 불가\n",
    "money#     # _ 이외의 문자 사용 안됨"
   ]
  },
  {
   "cell_type": "markdown",
   "id": "0923246e",
   "metadata": {},
   "source": [
    "##### 예약어 찾기\n",
    "````\n",
    " import keyword\n",
    " print(keyword.kwlist)\n",
    "````"
   ]
  },
  {
   "cell_type": "code",
   "execution_count": 9,
   "id": "0ac7133d",
   "metadata": {
    "scrolled": true
   },
   "outputs": [
    {
     "name": "stdout",
     "output_type": "stream",
     "text": [
      "['False', 'None', 'True', 'and', 'as', 'assert', 'async', 'await', 'break', 'class', 'continue', 'def', 'del', 'elif', 'else', 'except', 'finally', 'for', 'from', 'global', 'if', 'import', 'in', 'is', 'lambda', 'nonlocal', 'not', 'or', 'pass', 'raise', 'return', 'try', 'while', 'with', 'yield']\n"
     ]
    }
   ],
   "source": [
    "import keyword\n",
    "print(keyword.kwlist)"
   ]
  },
  {
   "cell_type": "markdown",
   "id": "1ed95e80",
   "metadata": {},
   "source": [
    "### 변수의 타입\n",
    "```\n",
    "   print(type(변수명))\n",
    "```"
   ]
  },
  {
   "cell_type": "code",
   "execution_count": 10,
   "id": "89d4d2b9",
   "metadata": {
    "scrolled": false
   },
   "outputs": [
    {
     "name": "stdout",
     "output_type": "stream",
     "text": [
      "<class 'int'>\n",
      "<class 'float'>\n"
     ]
    }
   ],
   "source": [
    "a = 100\n",
    "print(type(a))\n",
    "print(type(100.1))"
   ]
  },
  {
   "cell_type": "code",
   "execution_count": 13,
   "id": "233ef1b8",
   "metadata": {},
   "outputs": [
    {
     "name": "stdout",
     "output_type": "stream",
     "text": [
      "<class 'str'>\n"
     ]
    },
    {
     "data": {
      "text/plain": [
       "str"
      ]
     },
     "execution_count": 13,
     "metadata": {},
     "output_type": "execute_result"
    }
   ],
   "source": [
    "b= \"키는 height\"\n",
    "print(type(b))\n",
    "type(b)"
   ]
  },
  {
   "cell_type": "code",
   "execution_count": 15,
   "id": "66c6ca39",
   "metadata": {},
   "outputs": [
    {
     "name": "stdout",
     "output_type": "stream",
     "text": [
      "첫번째 숫자를 입력하세요 > 5\n",
      "두번째 숫자를 입력하세요 > 7\n",
      "12\n"
     ]
    }
   ],
   "source": [
    "x1 = int(input('첫번째 숫자를 입력하세요 > '))\n",
    "x2 = int(input('두번째 숫자를 입력하세요 > '))\n",
    "print(x1+x2)"
   ]
  },
  {
   "cell_type": "code",
   "execution_count": null,
   "id": "da5cd594",
   "metadata": {},
   "outputs": [],
   "source": []
  },
  {
   "cell_type": "code",
   "execution_count": 1,
   "id": "153c6d3c",
   "metadata": {},
   "outputs": [
    {
     "name": "stdout",
     "output_type": "stream",
     "text": [
      "I'm a boy\n",
      "My father said \"Be strong!!\"\n"
     ]
    }
   ],
   "source": [
    "tom = \"I'm a boy\"\n",
    "john = 'My father said \"Be strong!!\"'\n",
    "print(tom)\n",
    "print(john)"
   ]
  },
  {
   "cell_type": "code",
   "execution_count": 2,
   "id": "fb641df0",
   "metadata": {},
   "outputs": [
    {
     "name": "stdout",
     "output_type": "stream",
     "text": [
      "Hello, 내이름은 Gildong이고 나는 Daegu에 살아요\n"
     ]
    }
   ],
   "source": [
    "name = 'Gildong'\n",
    "location = 'Daegu'\n",
    "print('Hello, 내이름은 '+ name +'이고 나는 '+location+'에 살아요')"
   ]
  },
  {
   "cell_type": "code",
   "execution_count": 3,
   "id": "26c34350",
   "metadata": {},
   "outputs": [
    {
     "name": "stdout",
     "output_type": "stream",
     "text": [
      "******************************\n"
     ]
    }
   ],
   "source": [
    "star = '*'\n",
    "print(star*30)"
   ]
  },
  {
   "cell_type": "code",
   "execution_count": 4,
   "id": "42e468cb",
   "metadata": {},
   "outputs": [
    {
     "name": "stdout",
     "output_type": "stream",
     "text": [
      "******************************\n",
      "Hello, Python!!!\n",
      "******************************\n"
     ]
    }
   ],
   "source": [
    "print(star*30)\n",
    "print(\"Hello, Python!!!\")\n",
    "print(star*30)"
   ]
  },
  {
   "cell_type": "code",
   "execution_count": 11,
   "id": "25ba261f",
   "metadata": {},
   "outputs": [
    {
     "name": "stdout",
     "output_type": "stream",
     "text": [
      "이름을 입력하세요Heeeeeee\n",
      "공백의 수는 얼마인가요 > 1\n",
      "*********************\n",
      "*                   *\n",
      "* Hello, Heeeeeee!! *\n",
      "*                   *\n",
      "*********************\n"
     ]
    }
   ],
   "source": [
    "name = input(\"이름을 입력하세요 > \")\n",
    "n_space = int(input('공백의 수는 얼마인가요 > '))\n",
    "# Hello, 이름!! -> 이름제외하고 9자추가 \n",
    "total_stars = n_space*2+len(name)+11\n",
    "print('*'*total_stars)\n",
    "for i in range(n_space):\n",
    "    print('*'+' '*(total_stars-2)+'*')\n",
    "print('*'+' '*n_space+'Hello, '+name+'!!'+' '*n_space+'*')\n",
    "for i in range(n_space):\n",
    "    print('*'+' '*(total_stars-2)+'*')\n",
    "print('*'*total_stars)"
   ]
  },
  {
   "cell_type": "code",
   "execution_count": 12,
   "id": "e68ea351",
   "metadata": {},
   "outputs": [
    {
     "name": "stdout",
     "output_type": "stream",
     "text": [
      "red banana\n",
      "yellow apple\n",
      "Hong\n"
     ]
    }
   ],
   "source": [
    "string1 = \"red apple\"\n",
    "string2 = 'yellow banana'\n",
    "\n",
    "# red banana 출력\n",
    "print(string1[:4]+string2[7:])\n",
    "# yellow apple 출력\n",
    "print(string2[:7]+string1[4:])\n",
    "\n",
    "#Hong Gildong -> Hong\n",
    "hong = \"Hong Gildong\"\n",
    "print(hong[:4])"
   ]
  },
  {
   "cell_type": "code",
   "execution_count": 15,
   "id": "fa5b2288",
   "metadata": {},
   "outputs": [
    {
     "name": "stdout",
     "output_type": "stream",
     "text": [
      "키를 입력하세요 > 179\n",
      "당신의 키는 179.0 cm 입니다.\n",
      "당신의 키는 179.0cm 입니다.\n",
      "당신의 키는 179.0cm입니다.\n",
      "당신의 키는 179.0cm입니다.\n",
      "당신의 키는 179.0cm입니다.\n"
     ]
    }
   ],
   "source": [
    "height = float(input(\"키를 입력하세요 > \"))\n",
    "\n",
    "print(\"당신의 키는\",height,\"cm 입니다.\")\n",
    "print(\"당신의 키는 \"+str(height)+\"cm 입니다.\")\n",
    "# print : python 2.x버전이후 지원\n",
    "print(\"당신의 키는 %.1fcm입니다.\"%(height))\n",
    "# print문 python 3.0버전 이후 .format\n",
    "print(\"당신의 키는 {0:.1f}cm입니다.\".format(height))\n",
    "# print문 python 3.6버전 이후 f'\n",
    "print(f'당신의 키는 {height:.1f}cm입니다.')"
   ]
  },
  {
   "cell_type": "code",
   "execution_count": 14,
   "id": "4f377f00",
   "metadata": {},
   "outputs": [
    {
     "name": "stdout",
     "output_type": "stream",
     "text": [
      "1 + 2 = 3\n",
      "01 + 02 = 03\n",
      "01 + 02 = 03\n"
     ]
    }
   ],
   "source": [
    "n1=1\n",
    "n2=2\n",
    "n3 = n1 + n2\n",
    "print(\"%d + %d = %d\"%(n1,n2,n3))\n",
    "print(\"{0:02d} + {1:02d} = {2:02d}\".format(n1,n2,n3))\n",
    "print(f'{n1:02d} + {n2:02d} = {n3:02d}')"
   ]
  },
  {
   "cell_type": "code",
   "execution_count": 13,
   "id": "e452ffeb",
   "metadata": {},
   "outputs": [
    {
     "name": "stdout",
     "output_type": "stream",
     "text": [
      "my favorite is meat\n",
      "my favorite is meat\n",
      "my favorite is meat\n"
     ]
    }
   ],
   "source": [
    "fav = \"meat\"\n",
    "print(\"my favorite is %s\"%(fav))\n",
    "print(\"my favorite is {}\".format(fav))\n",
    "print(f\"my favorite is {fav}\")"
   ]
  },
  {
   "cell_type": "code",
   "execution_count": 16,
   "id": "ba86a165",
   "metadata": {},
   "outputs": [
    {
     "name": "stdout",
     "output_type": "stream",
     "text": [
      "Product : Apple, Price per uint : 5.240000\n",
      "Product : Apple, Price per uint : 5.24\n",
      "Product : Apple, Price per uint : 5.24\n"
     ]
    }
   ],
   "source": [
    "print(\"Product : %s, Price per uint : %f\"%(\"Apple\",5.24))\n",
    "print(\"Product : {}, Price per uint : {}\".format(\"Apple\",5.24))\n",
    "print(f\"Product : {'Apple'}, Price per uint : {5.24}\")"
   ]
  },
  {
   "cell_type": "code",
   "execution_count": 17,
   "id": "afc38418",
   "metadata": {},
   "outputs": [
    {
     "name": "stdout",
     "output_type": "stream",
     "text": [
      "     5.943\n",
      "      5.94\n",
      "5.94      \n",
      "     5.943\n",
      "      5.94\n",
      "5.94      \n",
      "     5.943\n",
      "      5.94\n",
      "5.94      \n"
     ]
    }
   ],
   "source": [
    "num = 5.94343\n",
    "# v2.x\n",
    "print(\"%10.3f\"%(num))\n",
    "print(\"%10.2f\"%(num))\n",
    "print(\"%-10.2f\"%(num))\n",
    "# .format()\n",
    "print(\"{:>10.3f}\".format(num))  # > 오른쪽 정렬\n",
    "print(\"{:>10.2f}\".format(num))\n",
    "print(\"{:<10.2f}\".format(num))  # < 왼쪽정렬\n",
    "# f'\n",
    "print(f\"{num:>10.3f}\")  # > 오른쪽 정렬\n",
    "print(f\"{num:>10.2f}\")\n",
    "print(f\"{num:<10.2f}\")  # < 왼쪽정렬"
   ]
  },
  {
   "cell_type": "code",
   "execution_count": 18,
   "id": "3f3dcc51",
   "metadata": {
    "scrolled": true
   },
   "outputs": [
    {
     "name": "stdout",
     "output_type": "stream",
     "text": [
      "     Apple\n",
      "Apple     \n",
      "     Apple\n",
      "Apple     \n",
      "     Apple\n",
      "Apple     \n"
     ]
    }
   ],
   "source": [
    "fruit = 'Apple'\n",
    "print(\"%10s\"%fruit)\n",
    "print(\"%-10s\"%fruit)\n",
    "#.format\n",
    "print(\"{:>10s}\".format(fruit)) #오른쪽 정렬은 기본 옵션 : 생략가능\n",
    "print(\"{:<10s}\".format(fruit))\n",
    "# f'\n",
    "print(f\"{fruit:>10s}\")  #오른쪽 정렬은 기본 옵션 : 생략가능\n",
    "print(f\"{fruit:<10s}\")"
   ]
  },
  {
   "cell_type": "markdown",
   "id": "0d37b088",
   "metadata": {},
   "source": [
    "##### 문제 풀이\n",
    "- 키를 입력받아 적정 몸무게를 출력하는 프로그램 작성\n",
    "```\n",
    "   적정몸무게 = (키-100)*0.9\n",
    "```"
   ]
  },
  {
   "cell_type": "code",
   "execution_count": 20,
   "id": "c2999cfb",
   "metadata": {},
   "outputs": [
    {
     "name": "stdout",
     "output_type": "stream",
     "text": [
      "당신의 키는 > 175\n",
      "당신의 적정 몸무게는 67kg입니다.\n"
     ]
    }
   ],
   "source": [
    "height = int(input(\"당신의 키는 > \"))\n",
    "weight = (height-100)*0.9\n",
    "print(f'당신의 적정 몸무게는 {int(weight):}kg입니다.')"
   ]
  },
  {
   "cell_type": "code",
   "execution_count": 22,
   "id": "ffea3098",
   "metadata": {},
   "outputs": [
    {
     "name": "stdout",
     "output_type": "stream",
     "text": [
      "시간을 입력하세요(초단위) > 1000\n",
      "1000초는 00시간 16분 40초입니다.\n"
     ]
    }
   ],
   "source": [
    "# 초를 입력받아 몇시간 몇분 몇초인지 계산\n",
    "# 시간을 입력하세요(초단위) > 1000\n",
    "# 1000초는 0시간 16분 40초 입니다.\n",
    "total_sec = int(input(\"시간을 입력하세요(초단위) > \"))\n",
    "hour = total_sec // (60*60)\n",
    "rest_sec = total_sec % (60*60)\n",
    "minute = rest_sec // 60\n",
    "sec = rest_sec % 60\n",
    "print(f'{total_sec}초는 {hour:02d}시간 {minute:02d}분 {sec:02d}초입니다.')\n"
   ]
  },
  {
   "cell_type": "code",
   "execution_count": 1,
   "id": "751cb244",
   "metadata": {},
   "outputs": [
    {
     "name": "stdout",
     "output_type": "stream",
     "text": [
      "당신의 나이는 몇살 입니까? :30\n",
      "당신은 30 년을 살았습니다\n"
     ]
    }
   ],
   "source": [
    "age =int(input(\"당신의 나이는 몇살 입니까? :\"))\n",
    "print(f\"당신은 {age:} 년을 살았습니다\")"
   ]
  },
  {
   "cell_type": "code",
   "execution_count": null,
   "id": "58ce4aed",
   "metadata": {},
   "outputs": [],
   "source": [
    "a = int(input(\"분자를 입력하세요 :\"))\n",
    "b = int(input(\"분모를 입력하세요 :\"))\n",
    "print(f\"나눗셈의 몫 = {a//b:} 나머지 = {a%b:}\")"
   ]
  },
  {
   "cell_type": "code",
   "execution_count": null,
   "id": "7bb406fe",
   "metadata": {},
   "outputs": [],
   "source": [
    "#커피가게 매출 계산하기\n",
    "print(\"아메리카노:2000원  카페라뗴:3000원 카푸치노:3500원\")\n",
    "a=2000\n",
    "b=3000\n",
    "c=3500\n",
    "Americano = int(input(\"아메리카노 판매 개수를 입력하세요 : \"))\n",
    "Cafelatte = int(input(\"카페라뗴 판매 개수를 입력하세요 : \"))\n",
    "Cappuccino= int(input(\"카푸치노 판매 개수를 입력하세요 : \"))\n",
    "res = (a*Americano)+(b*Cafelatte)+(c*Cappuccino)\n",
    "print(f\"총 매출은{res:}원 입니다.\")\n",
    "\n",
    "if res>100000:\n",
    "    print(f\"{res-100000:}원 흑자 입니다.\")\n",
    "else:\n",
    "    print(f\"{100000-res:}원 적자 입니다.\")"
   ]
  },
  {
   "cell_type": "code",
   "execution_count": null,
   "id": "71736ef1",
   "metadata": {},
   "outputs": [],
   "source": [
    "#성적 계산 프로그램\n",
    "name = input(\"이름을 입력하세요 :\")\n",
    "a = int(input(\"국어 점수를 입력하세요 :\"))\n",
    "b = int(input(\"수학 점수를 입력하세요 :\"))\n",
    "c = int(input(\"사회 점수를 입력하세요 :\"))\n",
    "d = int(input(\"과학 점수를 입력하세요 :\"))\n",
    "e = int(input(\"영어 점수를 입력하세요 :\"))\n",
    "f = a + b + c + d + e\n",
    "g = float(f/5)\n",
    "print(f\"{name} 님의 성적은 총합 {f:} 점, 평균{g:.1f}점 입니다.\")\n"
   ]
  },
  {
   "cell_type": "code",
   "execution_count": null,
   "id": "da575c78",
   "metadata": {},
   "outputs": [],
   "source": [
    "#피타고라스 정리\n",
    "a = float(input(\"첫번째 직각변의 길이(cm) :\"))\n",
    "b = float(input(\"두번째 직각변의 길이(cm) :\"))\n",
    "print(f\"빗변의 길이는 {(a**2+b**2)**0.5:}cm 입니다\")"
   ]
  },
  {
   "cell_type": "code",
   "execution_count": null,
   "id": "3868c585",
   "metadata": {},
   "outputs": [],
   "source": [
    "#원의 넓이 구하기\n",
    "a = int (input(\"원의 반지름을 입력하세요 :\"))\n",
    "rod =round(2*3.14*a, 2)\n",
    "area = round(3.14*(a**2),2)\n",
    "print(f\"원의 둘레는 {rod:}cm 이고 원의 넓이는{area:}cm 입니다.\")"
   ]
  },
  {
   "cell_type": "code",
   "execution_count": null,
   "id": "9ff43938",
   "metadata": {},
   "outputs": [],
   "source": [
    "#근의 공식\n",
    "print(\"이차방정식 ax^2 + bx +c 해 계산기 입니다\")\n",
    "a = int(input(\"a 값 :\"))\n",
    "b = int(input(\"b 값 :\"))\n",
    "c = int(input(\"c 값 :\"))\n",
    "print(f\"이차방정식{a:},x^2+{b:}x+c의 해는\")\n",
    "print()\n",
    "print(f\"{-b}'+-'{(b**2-4*a*c)**0.5:}\")\n",
    "print(\"----------\")\n",
    "print(f\"   {2*a:}   \")"
   ]
  },
  {
   "cell_type": "code",
   "execution_count": null,
   "id": "6a81d488",
   "metadata": {},
   "outputs": [],
   "source": [
    "str1 =\"aac\"\n",
    "str1 =str1.replace('a','b')\n",
    "print(str1)\n",
    "str2 =str1.replace('a','b')\n",
    "print(str2)\n",
    "# str1[o]='j' = x"
   ]
  }
 ],
 "metadata": {
  "kernelspec": {
   "display_name": "Python 3 (ipykernel)",
   "language": "python",
   "name": "python3"
  },
  "language_info": {
   "codemirror_mode": {
    "name": "ipython",
    "version": 3
   },
   "file_extension": ".py",
   "mimetype": "text/x-python",
   "name": "python",
   "nbconvert_exporter": "python",
   "pygments_lexer": "ipython3",
   "version": "3.11.5"
  }
 },
 "nbformat": 4,
 "nbformat_minor": 5
}
