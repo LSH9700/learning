{
 "cells": [
  {
   "cell_type": "markdown",
   "id": "462ad392",
   "metadata": {},
   "source": [
    "##### range()함수\n",
    "- range(끝숫자) : range(5) ->0,1,2,3,4\n",
    "- range(시작숫자,끝숫자) : range(1,5) -> 1,2,3,4\n",
    "- range(시작숫자,끝숫자,점프) : range(1,10,3) -> 1,4,7"
   ]
  },
  {
   "cell_type": "code",
   "execution_count": 4,
   "id": "84432a38",
   "metadata": {},
   "outputs": [
    {
     "data": {
      "text/plain": [
       "[0, 1, 2, 3, 4]"
      ]
     },
     "execution_count": 4,
     "metadata": {},
     "output_type": "execute_result"
    }
   ],
   "source": [
    "a=list(range(5))\n",
    "a"
   ]
  },
  {
   "cell_type": "code",
   "execution_count": 3,
   "id": "4391b775",
   "metadata": {},
   "outputs": [
    {
     "data": {
      "text/plain": [
       "[1, 2, 3, 4]"
      ]
     },
     "execution_count": 3,
     "metadata": {},
     "output_type": "execute_result"
    }
   ],
   "source": [
    "a=list(range(1,5))\n",
    "a"
   ]
  },
  {
   "cell_type": "code",
   "execution_count": 5,
   "id": "717a3fb7",
   "metadata": {},
   "outputs": [
    {
     "data": {
      "text/plain": [
       "[1, 4, 7]"
      ]
     },
     "execution_count": 5,
     "metadata": {},
     "output_type": "execute_result"
    }
   ],
   "source": [
    "a=list(range(1,10,3))\n",
    "a"
   ]
  },
  {
   "cell_type": "code",
   "execution_count": 7,
   "id": "7e61c329",
   "metadata": {},
   "outputs": [
    {
     "data": {
      "text/plain": [
       "['p', 'y', 't', 'h', 'o', 'n']"
      ]
     },
     "execution_count": 7,
     "metadata": {},
     "output_type": "execute_result"
    }
   ],
   "source": [
    "str='python'\n",
    "b=list(str)\n",
    "b"
   ]
  },
  {
   "cell_type": "code",
   "execution_count": 18,
   "id": "58382f35",
   "metadata": {},
   "outputs": [
    {
     "name": "stdout",
     "output_type": "stream",
     "text": [
      "[ 1 4 7 10 13 16 19 22 25 28 31 34 37 40 43 46 49 52 55 58 61 64 67 70 73 76 79 82 85 88 91 94 97 100 ]\n"
     ]
    }
   ],
   "source": [
    "# 1부터 100까지 3씩 더해지는 숫자들의 모임\n",
    "c= list(range(1,101,3))\n",
    "print('[',end=\" \")\n",
    "for i in range(len(c)):\n",
    "    print(c[i], end=\" \")\n",
    "print(\"]\")"
   ]
  },
  {
   "cell_type": "code",
   "execution_count": 49,
   "id": "16359caf",
   "metadata": {},
   "outputs": [
    {
     "name": "stdout",
     "output_type": "stream",
     "text": [
      "0 2 4 6 8 10 12 14 16 18 20 22 24 26 28 30 32 34 36 38 40 42 44 46 48 50 52 54 56 58 60 62 64 66 68 70 72 74 76 78 80 82 84 86 88 90 92 94 96 98 "
     ]
    }
   ],
   "source": [
    "d= list(range(1,101))\n",
    "for i in range(len(d)):\n",
    "     if(i%2==0):\n",
    "        print(f\"{i} \", end=\"\")"
   ]
  },
  {
   "cell_type": "markdown",
   "id": "29e4e116",
   "metadata": {},
   "source": [
    "#### Indexing"
   ]
  },
  {
   "cell_type": "code",
   "execution_count": 91,
   "id": "189f8382",
   "metadata": {},
   "outputs": [],
   "source": [
    "colors = ['red','blue','yellow']"
   ]
  },
  {
   "cell_type": "code",
   "execution_count": 92,
   "id": "391a5b09",
   "metadata": {
    "scrolled": true
   },
   "outputs": [
    {
     "name": "stdout",
     "output_type": "stream",
     "text": [
      "red\n",
      "blue\n",
      "yellow\n"
     ]
    }
   ],
   "source": [
    "print(colors[0])\n",
    "print(colors[1])\n",
    "print(colors[2])"
   ]
  },
  {
   "cell_type": "code",
   "execution_count": 93,
   "id": "842a5a83",
   "metadata": {},
   "outputs": [
    {
     "name": "stdout",
     "output_type": "stream",
     "text": [
      "3\n"
     ]
    }
   ],
   "source": [
    "print(len(colors))"
   ]
  },
  {
   "cell_type": "code",
   "execution_count": 94,
   "id": "45a1a393",
   "metadata": {
    "scrolled": true
   },
   "outputs": [
    {
     "name": "stdout",
     "output_type": "stream",
     "text": [
      "red\n",
      "blue\n",
      "yellow\n"
     ]
    }
   ],
   "source": [
    "for i in range(len(colors)):\n",
    "    print(colors[i])"
   ]
  },
  {
   "cell_type": "code",
   "execution_count": 96,
   "id": "a5068448",
   "metadata": {},
   "outputs": [
    {
     "name": "stdout",
     "output_type": "stream",
     "text": [
      "red\n",
      "blue\n",
      "yellow\n"
     ]
    }
   ],
   "source": [
    "for color in colors :\n",
    "    print(color)"
   ]
  },
  {
   "cell_type": "code",
   "execution_count": 98,
   "id": "fe7bfa2b",
   "metadata": {},
   "outputs": [
    {
     "data": {
      "text/plain": [
       "[10, 30, 20]"
      ]
     },
     "execution_count": 98,
     "metadata": {},
     "output_type": "execute_result"
    }
   ],
   "source": [
    "a=[10,20,30,20]\n",
    "a.remove(20)\n",
    "a"
   ]
  },
  {
   "cell_type": "code",
   "execution_count": 99,
   "id": "2855112a",
   "metadata": {},
   "outputs": [
    {
     "data": {
      "text/plain": [
       "['A', 'b', 'C']"
      ]
     },
     "execution_count": 99,
     "metadata": {},
     "output_type": "execute_result"
    }
   ],
   "source": [
    "a=['A','B','C']\n",
    "a[1]='b'\n",
    "a"
   ]
  },
  {
   "cell_type": "code",
   "execution_count": 100,
   "id": "cb622d2e",
   "metadata": {},
   "outputs": [
    {
     "data": {
      "text/plain": [
       "['A', 'B', 'b', 'bear', 'C']"
      ]
     },
     "execution_count": 100,
     "metadata": {},
     "output_type": "execute_result"
    }
   ],
   "source": [
    "# 'b' ->['B','b','bear']\n",
    "a[1:2] =['B','b','bear']\n",
    "a"
   ]
  },
  {
   "cell_type": "code",
   "execution_count": 101,
   "id": "ad91a86b",
   "metadata": {},
   "outputs": [
    {
     "data": {
      "text/plain": [
       "['A', 'F', 'f', 'Fire', 'B', 'C']"
      ]
     },
     "execution_count": 101,
     "metadata": {},
     "output_type": "execute_result"
    }
   ],
   "source": [
    "a=['A','B','C']\n",
    "a[1:1] = ['F','f','Fire']\n",
    "a"
   ]
  },
  {
   "cell_type": "code",
   "execution_count": 111,
   "id": "add92dec",
   "metadata": {},
   "outputs": [],
   "source": [
    "fruits = ['apple','orage','mango', 'kiwi', 'banana']"
   ]
  },
  {
   "cell_type": "code",
   "execution_count": 112,
   "id": "de6fbc54",
   "metadata": {},
   "outputs": [
    {
     "name": "stdout",
     "output_type": "stream",
     "text": [
      "apple\n",
      "orage\n",
      "mango\n",
      "kiwi\n",
      "banana\n"
     ]
    }
   ],
   "source": [
    "for fruit in fruits:\n",
    "    print(fruit)"
   ]
  },
  {
   "cell_type": "code",
   "execution_count": 105,
   "id": "88023804",
   "metadata": {},
   "outputs": [
    {
     "name": "stdout",
     "output_type": "stream",
     "text": [
      "apple\n",
      "orage\n",
      "mango\n",
      "kiwi\n",
      "banana\n"
     ]
    }
   ],
   "source": [
    "for i in range(len(fruits)):\n",
    "    print(fruits[i])"
   ]
  },
  {
   "cell_type": "code",
   "execution_count": 113,
   "id": "367d1c35",
   "metadata": {},
   "outputs": [
    {
     "name": "stdout",
     "output_type": "stream",
     "text": [
      "apple : 0\n",
      "orage : 1\n",
      "mango : 2\n",
      "kiwi : 3\n",
      "banana : 4\n"
     ]
    }
   ],
   "source": [
    "for fruit,i in enumerate(fruits):\n",
    "    print(f'{i} : {fruit}')"
   ]
  },
  {
   "cell_type": "code",
   "execution_count": 114,
   "id": "cd03a924",
   "metadata": {},
   "outputs": [
    {
     "name": "stdout",
     "output_type": "stream",
     "text": [
      "0 : apple\n",
      "1 : orage\n",
      "2 : mango\n",
      "3 : kiwi\n",
      "4 : banana\n"
     ]
    }
   ],
   "source": [
    "for i,fruit in enumerate(fruits):\n",
    "    print(f'{i} : {fruit}')\n",
    "    "
   ]
  },
  {
   "cell_type": "code",
   "execution_count": 115,
   "id": "568f6faa",
   "metadata": {},
   "outputs": [
    {
     "name": "stdout",
     "output_type": "stream",
     "text": [
      "4 : banana\n"
     ]
    }
   ],
   "source": [
    "# 과일이름중에 b가 들어가는 과일\n",
    "for i,fruit in enumerate(fruits):\n",
    "    if('b' in fruit):\n",
    "        print(f'{i} : {fruit}')"
   ]
  },
  {
   "cell_type": "code",
   "execution_count": 134,
   "id": "00c77d5d",
   "metadata": {},
   "outputs": [
    {
     "data": {
      "text/plain": [
       "['mango', 'grape', 'kiwi', 'pizza', 'salad']"
      ]
     },
     "execution_count": 134,
     "metadata": {},
     "output_type": "execute_result"
    }
   ],
   "source": [
    "fruits = ['mango','grape','cherry']\n",
    "foods = ['pizza','salad', 'stake']\n",
    "mixed = fruits + foods\n",
    "mixed[2] = 'kiwi'\n",
    "mixed.pop()\n",
    "mixed"
   ]
  },
  {
   "cell_type": "code",
   "execution_count": 135,
   "id": "b7bc0cb1",
   "metadata": {},
   "outputs": [
    {
     "data": {
      "text/plain": [
       "['mango', 'grape', 'cherry', 'kiwi', 'banana', 'pizza', 'salad']"
      ]
     },
     "execution_count": 135,
     "metadata": {},
     "output_type": "execute_result"
    }
   ],
   "source": [
    "fruits = ['mango','grape','cherry','kiwi','pineapple']\n",
    "foods = ['pizza','salad', 'stake']\n",
    "mixed = fruits + foods\n",
    "last_fruit = fruits.pop()\n",
    "mixed[mixed.index(last_fruit)] = \"banana\" # 과일의 마지막 항목 바나나로 변경\n",
    "mixed.pop()   # 맨 마지막 항목 삭제\n",
    "mixed"
   ]
  },
  {
   "cell_type": "code",
   "execution_count": 136,
   "id": "7d23477c",
   "metadata": {},
   "outputs": [
    {
     "name": "stdout",
     "output_type": "stream",
     "text": [
      "체셔고양이에게는 딸기맛 사탕을 줘요\n",
      "오리에게는 레몬맛 사탕을 줘요\n",
      "도도새에게는 ['우유맛', '콜라맛', '포도맛'] 사탕을 줘요\n"
     ]
    }
   ],
   "source": [
    "candies =['딸기맛','레몬맛','수박맛','우유맛','콜라맛','포도맛']\n",
    "print(f'체셔고양이에게는 {candies[0]} 사탕을 줘요')\n",
    "print(f'오리에게는 {candies[1]} 사탕을 줘요')\n",
    "print(f'도도새에게는 {candies[-3:]} 사탕을 줘요')"
   ]
  },
  {
   "cell_type": "code",
   "execution_count": 162,
   "id": "c87b6d9e",
   "metadata": {},
   "outputs": [
    {
     "name": "stdout",
     "output_type": "stream",
     "text": [
      "1 :  ['김철수', '이철수', '박철수', '홍철수']\n"
     ]
    }
   ],
   "source": [
    "students=['김철수','이철수','박철수']\n",
    "students.append('홍철수')\n",
    "print(\"1 : \",students)"
   ]
  },
  {
   "cell_type": "code",
   "execution_count": 163,
   "id": "65ac70bc",
   "metadata": {},
   "outputs": [
    {
     "name": "stdout",
     "output_type": "stream",
     "text": [
      "2 :  ['김철수', '이철수', '박철수', '박철수', '홍철수']\n"
     ]
    }
   ],
   "source": [
    "#박철수 뒤에 박철수 \n",
    "find_name = '박철수'\n",
    "if students.count(find_name) != 0:\n",
    "    students.insert(students.index(find_name)+1, find_name)\n",
    "print(\"2 : \",students)"
   ]
  },
  {
   "cell_type": "code",
   "execution_count": 164,
   "id": "e5271bdf",
   "metadata": {},
   "outputs": [
    {
     "name": "stdout",
     "output_type": "stream",
     "text": [
      "3: 박철수 몇명 : 2명\n"
     ]
    }
   ],
   "source": [
    "#박철수 몇명???\n",
    "print(f\"3: 박철수 몇명 : {students.count('박철수')}명\")"
   ]
  },
  {
   "cell_type": "code",
   "execution_count": 165,
   "id": "f9abaa33",
   "metadata": {
    "scrolled": true
   },
   "outputs": [
    {
     "name": "stdout",
     "output_type": "stream",
     "text": [
      "4 :  ['이철수', '박철수', '박철수', '홍철수']\n"
     ]
    }
   ],
   "source": [
    "#2번째 학생 삭제하기\n",
    "students. remove ('김철수')\n",
    "print(\"4 : \",students)"
   ]
  },
  {
   "cell_type": "code",
   "execution_count": 166,
   "id": "f274a04d",
   "metadata": {},
   "outputs": [
    {
     "name": "stdout",
     "output_type": "stream",
     "text": [
      "5 :  ['이철수', '박철수', '홍철수']\n"
     ]
    }
   ],
   "source": [
    "#2번째 학생 삭제하기\n",
    "students.pop(1)\n",
    "print(\"5 : \",students)"
   ]
  },
  {
   "cell_type": "code",
   "execution_count": 167,
   "id": "7764edcb",
   "metadata": {},
   "outputs": [
    {
     "name": "stdout",
     "output_type": "stream",
     "text": [
      "6 :  ['홍철수', '이철수', '박철수']\n"
     ]
    }
   ],
   "source": [
    "# 내림차순 정렬 : 오름차순정렬 -> reverse\n",
    "students.sort()\n",
    "students.reverse()\n",
    "print(\"6 : \",students)"
   ]
  },
  {
   "cell_type": "code",
   "execution_count": 160,
   "id": "7ba03a26",
   "metadata": {},
   "outputs": [
    {
     "name": "stdout",
     "output_type": "stream",
     "text": [
      "['채치수', '송태섭', '안경선배', '강백호', '서태웅', '정대만']\n",
      "['강백호', '서태웅', '송태섭', '안경선배', '정대만', '채치수']\n"
     ]
    }
   ],
   "source": [
    "#현재 학생\n",
    "students=['채치수','송태섭','안경선배','강백호','서태웅']\n",
    "#새로 들어온 학생 : 정대만\n",
    "# 정대만을 추가하고 오름차순으로 이름 정렬\n",
    "students. append('정대만')\n",
    "print(students)\n",
    "students. sort()\n",
    "print(students)"
   ]
  },
  {
   "cell_type": "code",
   "execution_count": 176,
   "id": "760d8e63",
   "metadata": {
    "scrolled": true
   },
   "outputs": [
    {
     "name": "stdout",
     "output_type": "stream",
     "text": [
      "1 : ['아이언맨', '닥터 스트레인지', '헐크', '스칼렛 위치']\n",
      "2 : ['아이언맨', '닥터 스트레인지', '헐크', '스칼렛 위치', '스파이더맨']\n",
      "3 : ['아이언맨', '배트맨', '닥터 스트레인지', '헐크', '스칼렛 위치', '스파이더맨']\n"
     ]
    }
   ],
   "source": [
    "heroes=['아이언맨','토르','헐크','스칼렛 위치']\n",
    "if '토르' in heroes:\n",
    "    heroes[heroes. index('토르')] =('닥터 스트레인지')\n",
    "    print(\"1 :\",heroes)\n",
    "    #마지막에 스파이더맨 추가\n",
    "    heroes. append('스파이더맨')\n",
    "    print(\"2 :\",heroes)\n",
    "    #2번째 인덱스에 배트맨 추가\n",
    "    heroes.insert(1, '배트맨')\n",
    "    print(\"3 :\",heroes)"
   ]
  },
  {
   "cell_type": "code",
   "execution_count": 197,
   "id": "2291c53b",
   "metadata": {},
   "outputs": [],
   "source": [
    "quotes = [\"꿈을 지녀라. 그러면 어려운 현실을 이길 수 있다.\",\n",
    "          \"분노는 바보들의 가슴속에서만 살아간다..\",  \n",
    "          \"고생 없이 얻을 수 있는 진실로 귀중한 것은 하나도 없다.\",\n",
    "          \"사람은 사랑할 때 누구나 시인이 된다.\",\n",
    "          \"시작이 반이다.\"]"
   ]
  },
  {
   "cell_type": "code",
   "execution_count": 198,
   "id": "191e25d9",
   "metadata": {},
   "outputs": [],
   "source": [
    "def print_str():\n",
    "    print('#'*25)\n",
    "    print('#      오늘의 속담      #')\n",
    "    print('#'*25)"
   ]
  },
  {
   "cell_type": "code",
   "execution_count": 199,
   "id": "05a8e401",
   "metadata": {
    "scrolled": true
   },
   "outputs": [
    {
     "name": "stdout",
     "output_type": "stream",
     "text": [
      "#########################\n",
      "#      오늘의 속담      #\n",
      "#########################\n"
     ]
    },
    {
     "data": {
      "text/plain": [
       "'시작이 반이다.'"
      ]
     },
     "execution_count": 199,
     "metadata": {},
     "output_type": "execute_result"
    }
   ],
   "source": [
    "import random\n",
    "print_str()\n",
    "daily_quotes = random.choice(quotes)\n",
    "daily_quotes"
   ]
  },
  {
   "cell_type": "code",
   "execution_count": 202,
   "id": "1c096430",
   "metadata": {
    "scrolled": true
   },
   "outputs": [
    {
     "name": "stdout",
     "output_type": "stream",
     "text": [
      "#########################\n",
      "#      오늘의 속담      #\n",
      "#########################\n"
     ]
    },
    {
     "data": {
      "text/plain": [
       "'고생 없이 얻을 수 있는 진실로 귀중한 것은 하나도 없다.'"
      ]
     },
     "execution_count": 202,
     "metadata": {},
     "output_type": "execute_result"
    }
   ],
   "source": [
    "import random\n",
    "print_str()\n",
    "n = random.randint(0,len(quotes)-1)\n",
    "quotes[n]"
   ]
  },
  {
   "cell_type": "code",
   "execution_count": null,
   "id": "67dd0a8d",
   "metadata": {},
   "outputs": [],
   "source": []
  }
 ],
 "metadata": {
  "kernelspec": {
   "display_name": "Python 3 (ipykernel)",
   "language": "python",
   "name": "python3"
  },
  "language_info": {
   "codemirror_mode": {
    "name": "ipython",
    "version": 3
   },
   "file_extension": ".py",
   "mimetype": "text/x-python",
   "name": "python",
   "nbconvert_exporter": "python",
   "pygments_lexer": "ipython3",
   "version": "3.11.5"
  }
 },
 "nbformat": 4,
 "nbformat_minor": 5
}
