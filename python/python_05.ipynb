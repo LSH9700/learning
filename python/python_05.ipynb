{
 "cells": [
  {
   "cell_type": "code",
   "execution_count": null,
   "id": "e4a8be50",
   "metadata": {},
   "outputs": [],
   "source": [
    "count =1\n",
    "mod_str =\"\"\n",
    "while count<=20:\n",
    "    print(f\"{count:02d} \",end=\"\")\n",
    "    mod_str += f\"{count %4:2d} \"\n",
    "    count+=1\n",
    "print()\n",
    "print(mod_str)\n"
   ]
  },
  {
   "cell_type": "code",
   "execution_count": null,
   "id": "75e546c4",
   "metadata": {},
   "outputs": [],
   "source": [
    "#정수를 입력하세요('0' 입력시 종료)\n",
    "\n",
    "while True:\n",
    "    num = int(input(\"정수를 입력하세요 ('0'입력시종료)\"))\n",
    "if num ==0:\n",
    "    print(\"종료합니다.\")\n",
    "    break\n",
    "elif (num > 0 & num % 2 ==0):\n",
    "    print(f\"{num} : 짝수\")\n",
    "elif (num > 0 & num % 2 ==1):\n",
    "    print(f\"{num} : 홀수\")\n",
    "else:\n",
    "    print(\"0보다 큰값을 입력하세요.\")\n"
   ]
  },
  {
   "cell_type": "code",
   "execution_count": null,
   "id": "633832b3",
   "metadata": {},
   "outputs": [],
   "source": [
    "#주사위 프로그램을 싲가합니다\n",
    "import random\n",
    "import keyboard\n",
    "dice = ['1','2','3','4','5','6']\n",
    "\n",
    "print(\"주사위 프로그램을 시작합니다.\")\n",
    "\n",
    "while True:\n",
    "    print(\"아무키나 누르면 주사위가 던져집니다. 종료를 원하시면 'q'를 입력해 주세요.\")\n",
    "    if keyboard.read_key() == 'q':\n",
    "        print(\"종료합니다.\")\n",
    "        break\n",
    "    else:\n",
    "        print(f\"\\n{random.choice(dice)}\")"
   ]
  },
  {
   "cell_type": "code",
   "execution_count": null,
   "id": "a4285a16",
   "metadata": {},
   "outputs": [],
   "source": [
    "array =[273,32,103,57,52]\n",
    "\n",
    "# 방법 #1 : list 사용해서 값출력\n",
    "for a in array:\n",
    "    print(a,end =\" \")\n",
    "print()\n",
    "\n",
    "# 방법 #2\n",
    "for i in range(len(array)):\n",
    "    print(array[i], end =\" \")\n",
    "print()\n",
    "\n",
    "for i,a in enumerate(array):\n",
    "    print(f\"{i} : {a}\")\n",
    "print()"
   ]
  },
  {
   "cell_type": "code",
   "execution_count": null,
   "id": "287a7247",
   "metadata": {},
   "outputs": [],
   "source": [
    "num = int(input(\"숫자를 입력하세요 > \"))\n",
    "sum =0\n",
    "for n in range(1,num+1):\n",
    "    sum += n\n",
    "print(f\"1부터 {num}까지 합 : {sum}\")"
   ]
  }
 ],
 "metadata": {
  "kernelspec": {
   "display_name": "Python 3 (ipykernel)",
   "language": "python",
   "name": "python3"
  },
  "language_info": {
   "codemirror_mode": {
    "name": "ipython",
    "version": 3
   },
   "file_extension": ".py",
   "mimetype": "text/x-python",
   "name": "python",
   "nbconvert_exporter": "python",
   "pygments_lexer": "ipython3",
   "version": "3.11.5"
  }
 },
 "nbformat": 4,
 "nbformat_minor": 5
}
