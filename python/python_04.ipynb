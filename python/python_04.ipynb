{
 "cells": [
  {
   "cell_type": "code",
   "execution_count": 17,
   "id": "c7378c27",
   "metadata": {},
   "outputs": [
    {
     "name": "stdout",
     "output_type": "stream",
     "text": [
      "1+0=0\n",
      "False\n"
     ]
    }
   ],
   "source": [
    "import random\n",
    "num1 = random.randint(0,9)\n",
    "num2 = random.randint(0,9)\n",
    "\n",
    "answer = int(input(f\"{num1:}+{num2}=\"))\n",
    "if answer == (num1+num2):\n",
    "    print(\"True.\")\n",
    "else:\n",
    "    print(\"False\")"
   ]
  },
  {
   "cell_type": "markdown",
   "id": "42b59418",
   "metadata": {},
   "source": [
    "#### 동물원에 종달새가 다음과 같은 조건이 충족되면 노래를 한다.\n",
    "1. 오전 6시에서 9시 사이\n",
    "\n",
    "2. 날씨가 화창할때"
   ]
  },
  {
   "cell_type": "code",
   "execution_count": 43,
   "id": "036f4027",
   "metadata": {},
   "outputs": [
    {
     "name": "stdout",
     "output_type": "stream",
     "text": [
      "좋은 아침입니다. 현재 시간은 7시 입니다.\n",
      "날씨가 화창합니다.\n",
      "종달새 노래함\n"
     ]
    }
   ],
   "source": [
    "#시간을 랜덤하게 생성-> 0~23\n",
    "# 날씨를 랜덤하게 생성 -> 화창하다 ,화창하지않다\n",
    "\n",
    "import random\n",
    "time = random.randint(0,23)\n",
    "print(f\"좋은 아침입니다. 현재 시간은 {time:}시 입니다.\")\n",
    "sunny = random.choice([True,False])\n",
    "if sunny:\n",
    "    print(\"날씨가 화창합니다.\")\n",
    "else:\n",
    "    print(\"날씨가 화창하지 않습니다.\")\n",
    "    \n",
    "#종달새의 노래여부\n",
    "if (6<=time<=9) and sunny:\n",
    "    print(\"종달새 노래함\")\n",
    "\n",
    "else:\n",
    "    print(\"종달새 자는중~\")"
   ]
  },
  {
   "cell_type": "code",
   "execution_count": 46,
   "id": "43baac1d",
   "metadata": {},
   "outputs": [
    {
     "name": "stdout",
     "output_type": "stream",
     "text": [
      "어느쪽을 공격하시곘습니까?(왼쪽,중앙,오른쪽) :오른쪽\n",
      "오른쪽:오른쪽\n",
      "수비성공\n"
     ]
    }
   ],
   "source": [
    "#패널티킥의 방향을 입력받아서 패널티킥이 성공하는지 확인하는 프로그램\n",
    "#골키퍼는 랜덤으로 방향을 지정\n",
    "#어디를 공격할까요? : (왼쪽 오른쪽 중앙)\n",
    "# 패널티킥이 성공/실패 했습니다\n",
    "import random\n",
    "options = [\"왼쪽\",\"중앙\",\"오른쪽\"]\n",
    "com_choice = random.choice(options)\n",
    "user_choice = input(\"어느쪽을 공격하시곘습니까?(왼쪽,중앙,오른쪽) :\")\n",
    "if com_choice == user_choice:\n",
    "    print(com_choice+\":\"+user_choice)\n",
    "    print(\"수비성공\")\n",
    "else:\n",
    "    print(com_choice+\":\"+user_choice)\n",
    "    print(\"패널티킥 성공\")"
   ]
  },
  {
   "cell_type": "code",
   "execution_count": 49,
   "id": "e2c1d903",
   "metadata": {
    "scrolled": true
   },
   "outputs": [
    {
     "name": "stdout",
     "output_type": "stream",
     "text": [
      "나이를 입력해주세요 >9\n",
      "kids\n"
     ]
    }
   ],
   "source": [
    "age = int(input(\"나이를 입력해주세요 >\"))\n",
    "if age>=20:\n",
    "    print(\"Adult\")\n",
    "elif age>=10:\n",
    "    print(\"student\")\n",
    "else:\n",
    "    print(\"kids\")"
   ]
  },
  {
   "cell_type": "markdown",
   "id": "d4bbf258",
   "metadata": {},
   "source": [
    "인터넷 쇼핑몰에서 반지를 제작하여 판다. 판매 중인 반지는 9~12호까지 제작할 수 있다.\n",
    "• 손가락 둘레가 51mm 초과 52mm 이하인 사람은 9호,\n",
    "\n",
    "• 52mm 초과 53mm 이하인 사람은 10호,\n",
    "\n",
    "• 53mm 초과 54mm 이하인 사람은 11호,\n",
    "\n",
    "• 54mm 초과 55mm 이하인 사람은 12호를 추천하고,\n",
    "\n",
    "• 51mm 이하이거나, 55mm 초과인 사람은 제작이 불가능하다고 알려준다.\n",
    "\n",
    "수지의 손가락 둘레를 입력 받아 알맞은 사이즈의 반지를 추천하는 프로그램을 작성해보자.\n"
   ]
  },
  {
   "cell_type": "code",
   "execution_count": 55,
   "id": "a073116a",
   "metadata": {},
   "outputs": [
    {
     "name": "stdout",
     "output_type": "stream",
     "text": [
      "손가락 둘레를 입력해주세요51.2\n",
      "9호를 추천합니다.\n"
     ]
    }
   ],
   "source": [
    "size =float(input(\"손가락 둘레를 입력해주세요\"))\n",
    "if 51.0<size<=55.0:\n",
    "\n",
    "    if 51.0<size<=52.0:\n",
    "        print(\"9호를 추천합니다.\")\n",
    "    elif 52.0<size<=53.0:\n",
    "        print(\"10호를 추천합니다.\")\n",
    "    elif 53.0<size<=54.0:\n",
    "        print(\"11호를 추천합니다.\")\n",
    "    else:\n",
    "        print(\"12호를 추전찹니다\")"
   ]
  },
  {
   "cell_type": "code",
   "execution_count": null,
   "id": "5325dbf0",
   "metadata": {},
   "outputs": [],
   "source": []
  }
 ],
 "metadata": {
  "kernelspec": {
   "display_name": "Python 3 (ipykernel)",
   "language": "python",
   "name": "python3"
  },
  "language_info": {
   "codemirror_mode": {
    "name": "ipython",
    "version": 3
   },
   "file_extension": ".py",
   "mimetype": "text/x-python",
   "name": "python",
   "nbconvert_exporter": "python",
   "pygments_lexer": "ipython3",
   "version": "3.11.5"
  }
 },
 "nbformat": 4,
 "nbformat_minor": 5
}
