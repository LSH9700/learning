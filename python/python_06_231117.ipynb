{
 "cells": [
  {
   "cell_type": "code",
   "execution_count": 1,
   "id": "2b3ebfe6",
   "metadata": {},
   "outputs": [],
   "source": [
    "import numpy as np"
   ]
  },
  {
   "cell_type": "code",
   "execution_count": 7,
   "id": "148bb05e",
   "metadata": {},
   "outputs": [
    {
     "data": {
      "text/plain": [
       "array([[1, 2, 3, 4],\n",
       "       [5, 6, 7, 8]])"
      ]
     },
     "execution_count": 7,
     "metadata": {},
     "output_type": "execute_result"
    }
   ],
   "source": [
    "A = np.arange(1,9).reshape(2,4)\n",
    "A"
   ]
  },
  {
   "cell_type": "code",
   "execution_count": 8,
   "id": "fb16f380",
   "metadata": {},
   "outputs": [
    {
     "name": "stdout",
     "output_type": "stream",
     "text": [
      "[1 2 3 4]\n",
      "[1 2 3 4]\n"
     ]
    }
   ],
   "source": [
    "print(A[0])\n",
    "print(A[0,:])"
   ]
  },
  {
   "cell_type": "code",
   "execution_count": 10,
   "id": "f6be295f",
   "metadata": {},
   "outputs": [
    {
     "name": "stdout",
     "output_type": "stream",
     "text": [
      "[5 6 7 8]\n",
      "[5 6 7 8]\n"
     ]
    }
   ],
   "source": [
    "print(A[1])\n",
    "print(A[1,:])"
   ]
  },
  {
   "cell_type": "code",
   "execution_count": 12,
   "id": "4a1c9c22",
   "metadata": {},
   "outputs": [
    {
     "name": "stdout",
     "output_type": "stream",
     "text": [
      "[1 5]\n",
      "[2 6]\n",
      "[3 7]\n",
      "[4 8]\n"
     ]
    }
   ],
   "source": [
    "print(A[:,0])\n",
    "print(A[:,1])\n",
    "print(A[:,2])\n",
    "print(A[:,3])"
   ]
  },
  {
   "cell_type": "markdown",
   "id": "d1dda148",
   "metadata": {},
   "source": [
    "### 행렬의 덧셈 연산"
   ]
  },
  {
   "cell_type": "code",
   "execution_count": 14,
   "id": "4f3948f5",
   "metadata": {
    "scrolled": true
   },
   "outputs": [],
   "source": [
    "import numpy as np\n",
    "A = np.array([[1,2],[3,4]])\n",
    "B = np.array([[4,1],[5,2]])"
   ]
  },
  {
   "cell_type": "code",
   "execution_count": 15,
   "id": "a684047b",
   "metadata": {},
   "outputs": [
    {
     "data": {
      "text/plain": [
       "array([[5, 3],\n",
       "       [8, 6]])"
      ]
     },
     "execution_count": 15,
     "metadata": {},
     "output_type": "execute_result"
    }
   ],
   "source": [
    "A+B"
   ]
  },
  {
   "cell_type": "code",
   "execution_count": 16,
   "id": "90faa0b5",
   "metadata": {},
   "outputs": [
    {
     "data": {
      "text/plain": [
       "array([[5, 3],\n",
       "       [8, 6]])"
      ]
     },
     "execution_count": 16,
     "metadata": {},
     "output_type": "execute_result"
    }
   ],
   "source": [
    "np.add(A,B)"
   ]
  },
  {
   "cell_type": "markdown",
   "id": "6f36125b",
   "metadata": {},
   "source": [
    "### 행렬의 뺼셈"
   ]
  },
  {
   "cell_type": "code",
   "execution_count": 17,
   "id": "689860b2",
   "metadata": {},
   "outputs": [],
   "source": [
    "import numpy as np\n",
    "A = np.array([[1,2],[3,4]])\n",
    "B = np.array([[4,1],[5,2]])"
   ]
  },
  {
   "cell_type": "code",
   "execution_count": 18,
   "id": "11d3f2dc",
   "metadata": {},
   "outputs": [
    {
     "data": {
      "text/plain": [
       "array([[-3,  1],\n",
       "       [-2,  2]])"
      ]
     },
     "execution_count": 18,
     "metadata": {},
     "output_type": "execute_result"
    }
   ],
   "source": [
    "A-B"
   ]
  },
  {
   "cell_type": "code",
   "execution_count": 19,
   "id": "499b5682",
   "metadata": {},
   "outputs": [
    {
     "data": {
      "text/plain": [
       "array([[-3,  1],\n",
       "       [-2,  2]])"
      ]
     },
     "execution_count": 19,
     "metadata": {},
     "output_type": "execute_result"
    }
   ],
   "source": [
    "np.subtract(A,B)"
   ]
  },
  {
   "cell_type": "markdown",
   "id": "443ad389",
   "metadata": {},
   "source": [
    "### 행렬의 스칼라곱"
   ]
  },
  {
   "cell_type": "code",
   "execution_count": 20,
   "id": "536fb325",
   "metadata": {},
   "outputs": [
    {
     "data": {
      "text/plain": [
       "array([[1, 2, 3],\n",
       "       [4, 5, 6],\n",
       "       [7, 8, 9]])"
      ]
     },
     "execution_count": 20,
     "metadata": {},
     "output_type": "execute_result"
    }
   ],
   "source": [
    "A = np.arange(1,10).reshape(3,3)\n",
    "A"
   ]
  },
  {
   "cell_type": "code",
   "execution_count": 21,
   "id": "6da3c3ae",
   "metadata": {},
   "outputs": [
    {
     "data": {
      "text/plain": [
       "array([[10, 20, 30],\n",
       "       [40, 50, 60],\n",
       "       [70, 80, 90]])"
      ]
     },
     "execution_count": 21,
     "metadata": {},
     "output_type": "execute_result"
    }
   ],
   "source": [
    "c = 10\n",
    "A * c"
   ]
  },
  {
   "cell_type": "code",
   "execution_count": 22,
   "id": "9ea27549",
   "metadata": {},
   "outputs": [
    {
     "data": {
      "text/plain": [
       "array([[10, 20, 30],\n",
       "       [40, 50, 60],\n",
       "       [70, 80, 90]])"
      ]
     },
     "execution_count": 22,
     "metadata": {},
     "output_type": "execute_result"
    }
   ],
   "source": [
    "np.multiply(A,c)"
   ]
  },
  {
   "cell_type": "markdown",
   "id": "91e2dab6",
   "metadata": {},
   "source": [
    "### 행렬의 곱셈\n",
    "\n",
    "* np.dot()\n",
    "* A@B"
   ]
  },
  {
   "cell_type": "code",
   "execution_count": 24,
   "id": "9607f5b3",
   "metadata": {},
   "outputs": [],
   "source": [
    "A = np.array([[1,2,3],[4,5,6]])   # 2x3\n",
    "B = np.array([[4,1],[5,2],[1,2]]) # 3x2"
   ]
  },
  {
   "cell_type": "code",
   "execution_count": 25,
   "id": "2c4e2f97",
   "metadata": {},
   "outputs": [
    {
     "data": {
      "text/plain": [
       "array([[1, 2, 3],\n",
       "       [4, 5, 6]])"
      ]
     },
     "execution_count": 25,
     "metadata": {},
     "output_type": "execute_result"
    }
   ],
   "source": [
    "A"
   ]
  },
  {
   "cell_type": "code",
   "execution_count": 26,
   "id": "1d1f6612",
   "metadata": {},
   "outputs": [
    {
     "data": {
      "text/plain": [
       "array([[4, 1],\n",
       "       [5, 2],\n",
       "       [1, 2]])"
      ]
     },
     "execution_count": 26,
     "metadata": {},
     "output_type": "execute_result"
    }
   ],
   "source": [
    "B"
   ]
  },
  {
   "cell_type": "code",
   "execution_count": 29,
   "id": "745a6a37",
   "metadata": {},
   "outputs": [
    {
     "data": {
      "text/plain": [
       "array([[17, 11],\n",
       "       [47, 26]])"
      ]
     },
     "execution_count": 29,
     "metadata": {},
     "output_type": "execute_result"
    }
   ],
   "source": [
    "# 행렬의 곱셈 .dot\n",
    "A.dot(B)"
   ]
  },
  {
   "cell_type": "code",
   "execution_count": 30,
   "id": "8e215a7e",
   "metadata": {},
   "outputs": [
    {
     "data": {
      "text/plain": [
       "array([[17, 11],\n",
       "       [47, 26]])"
      ]
     },
     "execution_count": 30,
     "metadata": {},
     "output_type": "execute_result"
    }
   ],
   "source": [
    "np.dot(A,B)"
   ]
  },
  {
   "cell_type": "code",
   "execution_count": 31,
   "id": "49d10b16",
   "metadata": {},
   "outputs": [],
   "source": [
    "A = np.array([[1,2],[3,4]])\n",
    "B = np.array([[4,1],[5,2]])"
   ]
  },
  {
   "cell_type": "code",
   "execution_count": 32,
   "id": "f638f690",
   "metadata": {},
   "outputs": [
    {
     "data": {
      "text/plain": [
       "array([[1, 2],\n",
       "       [3, 4]])"
      ]
     },
     "execution_count": 32,
     "metadata": {},
     "output_type": "execute_result"
    }
   ],
   "source": [
    "A"
   ]
  },
  {
   "cell_type": "code",
   "execution_count": 33,
   "id": "781e8b7e",
   "metadata": {},
   "outputs": [
    {
     "data": {
      "text/plain": [
       "array([[4, 1],\n",
       "       [5, 2]])"
      ]
     },
     "execution_count": 33,
     "metadata": {},
     "output_type": "execute_result"
    }
   ],
   "source": [
    "B"
   ]
  },
  {
   "cell_type": "code",
   "execution_count": 34,
   "id": "20c042f4",
   "metadata": {},
   "outputs": [
    {
     "data": {
      "text/plain": [
       "array([[ 4,  2],\n",
       "       [15,  8]])"
      ]
     },
     "execution_count": 34,
     "metadata": {},
     "output_type": "execute_result"
    }
   ],
   "source": [
    "A*B"
   ]
  },
  {
   "cell_type": "markdown",
   "id": "d97eda68",
   "metadata": {},
   "source": [
    "### 전치(transpose)행렬"
   ]
  },
  {
   "cell_type": "code",
   "execution_count": 36,
   "id": "c5dbb4aa",
   "metadata": {},
   "outputs": [],
   "source": [
    "A = np.arange(1,7). reshape(2,3)"
   ]
  },
  {
   "cell_type": "code",
   "execution_count": 37,
   "id": "f8ef020a",
   "metadata": {},
   "outputs": [
    {
     "data": {
      "text/plain": [
       "array([[1, 4],\n",
       "       [2, 5],\n",
       "       [3, 6]])"
      ]
     },
     "execution_count": 37,
     "metadata": {},
     "output_type": "execute_result"
    }
   ],
   "source": [
    "A.T"
   ]
  },
  {
   "cell_type": "code",
   "execution_count": 38,
   "id": "29509b01",
   "metadata": {},
   "outputs": [
    {
     "data": {
      "text/plain": [
       "array([[1, 4],\n",
       "       [2, 5],\n",
       "       [3, 6]])"
      ]
     },
     "execution_count": 38,
     "metadata": {},
     "output_type": "execute_result"
    }
   ],
   "source": [
    "np.transpose(A)"
   ]
  },
  {
   "cell_type": "code",
   "execution_count": 41,
   "id": "44b3aa31",
   "metadata": {},
   "outputs": [
    {
     "data": {
      "text/plain": [
       "array([[1, 0, 4],\n",
       "       [0, 1, 7],\n",
       "       [0, 0, 1]])"
      ]
     },
     "execution_count": 41,
     "metadata": {},
     "output_type": "execute_result"
    }
   ],
   "source": [
    "T = np.array([[1,0,4],[0,1,7],[0,0,1]])\n",
    "T"
   ]
  },
  {
   "cell_type": "code",
   "execution_count": 44,
   "id": "f106a7ba",
   "metadata": {},
   "outputs": [
    {
     "data": {
      "text/plain": [
       "array([3, 2, 1])"
      ]
     },
     "execution_count": 44,
     "metadata": {},
     "output_type": "execute_result"
    }
   ],
   "source": [
    "A =np.array([3,2,1])\n",
    "A = A.T\n",
    "A\n"
   ]
  },
  {
   "cell_type": "code",
   "execution_count": 46,
   "id": "f5592663",
   "metadata": {
    "scrolled": true
   },
   "outputs": [
    {
     "data": {
      "text/plain": [
       "array([7, 9, 1])"
      ]
     },
     "execution_count": 46,
     "metadata": {},
     "output_type": "execute_result"
    }
   ],
   "source": [
    "T.dot(A)"
   ]
  },
  {
   "cell_type": "code",
   "execution_count": 71,
   "id": "97330f72",
   "metadata": {},
   "outputs": [
    {
     "name": "stdout",
     "output_type": "stream",
     "text": [
      "[5. 5. 1.]\n"
     ]
    }
   ],
   "source": [
    "import numpy as np\n",
    "degree = 45\n",
    "\n",
    "M = np.array([[np.cos(degree*np.pi/180),np.sin(degree*np.pi/180),0],[np.sin(degree*np.pi/180),np.cos(degree*np.pi/180),0],[0,0,1]])\n",
    "\n",
    "p = np. array([7,0,1])\n",
    "_p =np. dot(M,p)\n",
    "_p[0]=int(np.round(_p[0]))\n",
    "_p[1]=int(np.round(_p[1]))\n",
    "_p[2]=int(np.round(_p[2]))\n",
    "print(_p)\n"
   ]
  },
  {
   "cell_type": "markdown",
   "id": "b3a0f372",
   "metadata": {},
   "source": [
    "### rotation matrix    "
   ]
  },
  {
   "cell_type": "code",
   "execution_count": 72,
   "id": "802db311",
   "metadata": {},
   "outputs": [],
   "source": [
    "#forward mapping\n",
    "\n",
    "import cv2\n",
    "import numpy as np\n",
    "\n",
    "img = cv2.imread('love.png', cv2.IMREAD_COLOR)\n",
    "height, width = img.shape[:2]\n",
    "\n",
    "# 45도를 라디안으로 변환하여 코싸인값과 싸인값을 구합니다.\n",
    "angle = 45\n",
    "radian = angle * np.pi / 180\n",
    "c = np.cos(radian)\n",
    "s = np.sin(radian)\n",
    "\n",
    "# 회전변환행렬을 구성합니다.\n",
    "# OpenCV의 원점이 왼쪽아래가 아니라 왼쪽위라서 [[c, -s, 0], [s, c, 0]]가 아니라\n",
    "# [[c, s, 0], [-s, c, 0]]입니다.\n",
    "rotation_matrix = np.array([[c, s, 0], [-s, c, 0], [0, 0, 1]], dtype=float)\n",
    "\n",
    "dst = np.zeros(img.shape, dtype=np.uint8)\n",
    "\n",
    "for y in range(height - 1):\n",
    "    for x in range(width - 1):\n",
    "\n",
    "        p = np.array([x, y, 1])\n",
    "        p_ = np.dot(rotation_matrix, p)\n",
    "\n",
    "        x_, y_ = p_[:2]\n",
    "        x_ = int(x_)\n",
    "        y_ = int(y_)\n",
    "\n",
    "        # 입력 이미지의 픽셀을 가져올 수 있는 경우에만\n",
    "        # 결과 이미지의 현재 위치의 픽셀로 사용합니다.\n",
    "        if x_ > 0 and x_ < width and y_ > 0 and y_ < height:\n",
    "            dst[y_, x_] = img[y, x]\n",
    "\n",
    "result = cv2.hconcat([img, dst])\n",
    "cv2.imshow(\"result\", result)\n",
    "cv2.waitKey(0)\n",
    "cv2.destroyAllWindows()"
   ]
  },
  {
   "cell_type": "code",
   "execution_count": 70,
   "id": "3f73ed58",
   "metadata": {},
   "outputs": [],
   "source": [
    "#backword mapping\n",
    "import cv2\n",
    "import numpy as np\n",
    "\n",
    "img = cv2.imread('love.png', cv2.IMREAD_COLOR)\n",
    "height, width = img.shape[:2]\n",
    "\n",
    "# 45도를 라디안으로 변환하여 코싸인값과 싸인값을 구합니다.\n",
    "angle = 45\n",
    "radian = angle * np.pi / 180\n",
    "c = np.cos(radian)\n",
    "s = np.sin(radian)\n",
    "\n",
    "# 회전변환행렬을 구성합니다.\n",
    "# OpenCV의 원점이 왼쪽아래가 아니라 왼쪽위라서 [[c, -s, 0], [s, c, 0]]가 아니라\n",
    "# [[c, s, 0], [-s, c, 0]]입니다.\n",
    "rotation_matrix = np.array([[c, s, 0], [-s, c, 0], [0, 0, 1]], dtype=float)\n",
    "\n",
    "dst = np.zeros(img.shape, dtype=np.uint8)\n",
    "\n",
    "for y in range(height - 1):\n",
    "    for x in range(width - 1):\n",
    "\n",
    "        # 결과 이미지의 픽셀 new_p로 이동하는 입력 이미지의\n",
    "        # 픽셀 old_p의 위치를 계산합니다.\n",
    "        new_p = np.array([x, y, 1])\n",
    "        inv_rotation_matrix = np.linalg.inv(rotation_matrix)\n",
    "        old_p = np.dot(inv_rotation_matrix, new_p)\n",
    "\n",
    "        # new_p 위치에 계산하여 얻은 old_p 픽셀의 값을 대입합니다.\n",
    "        x_, y_ = old_p[:2]\n",
    "        x_ = int(x_)\n",
    "        y_ = int(y_)\n",
    "\n",
    "        # 입력 이미지의 픽셀을 가져올 수 있는 경우에만\n",
    "        # 결과 이미지의 현재 위치의 픽셀로 사용합니다.\n",
    "        if x_ > 0 and x_ < width and y_ > 0 and y_ < height:\n",
    "            dst[y, x] = img[y_, x_]\n",
    "\n",
    "result = cv2.hconcat([img, dst])\n",
    "cv2.imshow(\"result\", result)\n",
    "cv2.waitKey(0)\n",
    "cv2.destroyAllWindows()"
   ]
  },
  {
   "cell_type": "code",
   "execution_count": null,
   "id": "cb186663",
   "metadata": {},
   "outputs": [],
   "source": []
  }
 ],
 "metadata": {
  "kernelspec": {
   "display_name": "Python 3 (ipykernel)",
   "language": "python",
   "name": "python3"
  },
  "language_info": {
   "codemirror_mode": {
    "name": "ipython",
    "version": 3
   },
   "file_extension": ".py",
   "mimetype": "text/x-python",
   "name": "python",
   "nbconvert_exporter": "python",
   "pygments_lexer": "ipython3",
   "version": "3.11.5"
  }
 },
 "nbformat": 4,
 "nbformat_minor": 5
}
