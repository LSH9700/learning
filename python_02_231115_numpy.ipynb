{
 "cells": [
  {
   "cell_type": "code",
   "execution_count": 4,
   "id": "1ffcc062",
   "metadata": {},
   "outputs": [],
   "source": [
    "import numpy as np"
   ]
  },
  {
   "cell_type": "code",
   "execution_count": 5,
   "id": "2ae94fea",
   "metadata": {},
   "outputs": [
    {
     "data": {
      "text/plain": [
       "array([1, 2, 3])"
      ]
     },
     "execution_count": 5,
     "metadata": {},
     "output_type": "execute_result"
    }
   ],
   "source": [
    "A = np.array([1,2,3])\n",
    "A"
   ]
  },
  {
   "cell_type": "code",
   "execution_count": 6,
   "id": "2ef1053c",
   "metadata": {},
   "outputs": [
    {
     "name": "stdout",
     "output_type": "stream",
     "text": [
      "3\n"
     ]
    },
    {
     "data": {
      "text/plain": [
       "3"
      ]
     },
     "execution_count": 6,
     "metadata": {},
     "output_type": "execute_result"
    }
   ],
   "source": [
    "print(len(A)) #pycharm\n",
    "len(A)        # jupyter   \n"
   ]
  },
  {
   "cell_type": "code",
   "execution_count": 7,
   "id": "47987c42",
   "metadata": {},
   "outputs": [
    {
     "data": {
      "text/plain": [
       "numpy.ndarray"
      ]
     },
     "execution_count": 7,
     "metadata": {},
     "output_type": "execute_result"
    }
   ],
   "source": [
    "type(A)"
   ]
  },
  {
   "cell_type": "code",
   "execution_count": 8,
   "id": "75ceaef8",
   "metadata": {},
   "outputs": [
    {
     "data": {
      "text/plain": [
       "numpy.int32"
      ]
     },
     "execution_count": 8,
     "metadata": {},
     "output_type": "execute_result"
    }
   ],
   "source": [
    "type(A[0])"
   ]
  },
  {
   "cell_type": "code",
   "execution_count": 9,
   "id": "1780de2c",
   "metadata": {},
   "outputs": [
    {
     "data": {
      "text/plain": [
       "array([list([1, 2, 3]), list([4, 5])], dtype=object)"
      ]
     },
     "execution_count": 9,
     "metadata": {},
     "output_type": "execute_result"
    }
   ],
   "source": [
    "B = np.array([list([1, 2, 3]), list([4, 5])], dtype=object)\n",
    "B"
   ]
  },
  {
   "cell_type": "code",
   "execution_count": 12,
   "id": "b9644dd8",
   "metadata": {},
   "outputs": [
    {
     "data": {
      "text/plain": [
       "3"
      ]
     },
     "execution_count": 12,
     "metadata": {},
     "output_type": "execute_result"
    }
   ],
   "source": [
    "len(B[0])"
   ]
  },
  {
   "cell_type": "markdown",
   "id": "1f21a2f3",
   "metadata": {},
   "source": [
    "#### Numpy는 성분끼리 연산(vectorization)이 가능 ####\n",
    "* 파이썬 연산 보다 빠름"
   ]
  },
  {
   "cell_type": "code",
   "execution_count": 29,
   "id": "60fd8f09",
   "metadata": {},
   "outputs": [],
   "source": [
    "A = [1,2,3]\n",
    "B = [-1,-2,-3]\n",
    "C = []"
   ]
  },
  {
   "cell_type": "code",
   "execution_count": null,
   "id": "63262432",
   "metadata": {},
   "outputs": [],
   "source": [
    "for a,b in zip(A,B):\n",
    "    C.append(a+b)\n",
    "C"
   ]
  },
  {
   "cell_type": "code",
   "execution_count": 28,
   "id": "389f4ce5",
   "metadata": {},
   "outputs": [
    {
     "data": {
      "text/plain": [
       "array([0, 0, 0])"
      ]
     },
     "execution_count": 28,
     "metadata": {},
     "output_type": "execute_result"
    }
   ],
   "source": [
    "A = np.array([1,2,3])\n",
    "B = np.array([-1,-2,-3])\n",
    "C = A+B  # vectorization\n",
    "C"
   ]
  },
  {
   "cell_type": "code",
   "execution_count": 33,
   "id": "640ed657",
   "metadata": {},
   "outputs": [
    {
     "name": "stdout",
     "output_type": "stream",
     "text": [
      "[0.  1.  0.2 0.3]\n"
     ]
    },
    {
     "data": {
      "text/plain": [
       "array([0. , 1. , 0.2, 0.3])"
      ]
     },
     "execution_count": 33,
     "metadata": {},
     "output_type": "execute_result"
    }
   ],
   "source": [
    "import numpy as np\n",
    "a =np.array([0,1,0.2,0.3])\n",
    "print(a)\n",
    "a"
   ]
  },
  {
   "cell_type": "code",
   "execution_count": 34,
   "id": "42146296",
   "metadata": {},
   "outputs": [
    {
     "data": {
      "text/plain": [
       "dtype('float64')"
      ]
     },
     "execution_count": 34,
     "metadata": {},
     "output_type": "execute_result"
    }
   ],
   "source": [
    "a.dtype"
   ]
  },
  {
   "cell_type": "code",
   "execution_count": 39,
   "id": "501ea1f2",
   "metadata": {},
   "outputs": [
    {
     "data": {
      "text/plain": [
       "dtype('int32')"
      ]
     },
     "execution_count": 39,
     "metadata": {},
     "output_type": "execute_result"
    }
   ],
   "source": [
    "b = np.array([1,2,3])\n",
    "b.dtype \n"
   ]
  },
  {
   "cell_type": "code",
   "execution_count": 42,
   "id": "80d34d5d",
   "metadata": {},
   "outputs": [
    {
     "data": {
      "text/plain": [
       "array([1, 2, 3])"
      ]
     },
     "execution_count": 42,
     "metadata": {},
     "output_type": "execute_result"
    }
   ],
   "source": [
    "c =[1,2,3]\n",
    "c=np.array(c)\n",
    "c"
   ]
  },
  {
   "cell_type": "code",
   "execution_count": 43,
   "id": "9a86f468",
   "metadata": {
    "scrolled": true
   },
   "outputs": [
    {
     "data": {
      "text/plain": [
       "dtype('int32')"
      ]
     },
     "execution_count": 43,
     "metadata": {},
     "output_type": "execute_result"
    }
   ],
   "source": [
    "c.dtype"
   ]
  },
  {
   "cell_type": "markdown",
   "id": "cf86e7cd",
   "metadata": {},
   "source": [
    "#### 자료형을 변환하고 싶을 떄 dtype 사용####\n",
    "- 원래 자료형이 아닌 다른 자료형으로 변환하고 싶을 때"
   ]
  },
  {
   "cell_type": "code",
   "execution_count": 118,
   "id": "78c48c03",
   "metadata": {},
   "outputs": [
    {
     "data": {
      "text/plain": [
       "dtype('float64')"
      ]
     },
     "execution_count": 118,
     "metadata": {},
     "output_type": "execute_result"
    }
   ],
   "source": [
    "d=[1,2,3,4]\n",
    "d=np.array(d,dtype= np.float64)\n",
    "d.dtype"
   ]
  },
  {
   "cell_type": "code",
   "execution_count": 117,
   "id": "29241bc2",
   "metadata": {},
   "outputs": [
    {
     "data": {
      "text/plain": [
       "dtype('float64')"
      ]
     },
     "execution_count": 117,
     "metadata": {},
     "output_type": "execute_result"
    }
   ],
   "source": [
    "e = [1.,2.,3.,4.]\n",
    "e = np.array(e)\n",
    "e.dtype"
   ]
  },
  {
   "cell_type": "markdown",
   "id": "69973d6a",
   "metadata": {},
   "source": [
    "#### NUMPy배열의 type 변환####\n",
    "* astype()사용"
   ]
  },
  {
   "cell_type": "code",
   "execution_count": 120,
   "id": "ba68eedf",
   "metadata": {},
   "outputs": [
    {
     "data": {
      "text/plain": [
       "dtype('float64')"
      ]
     },
     "execution_count": 120,
     "metadata": {},
     "output_type": "execute_result"
    }
   ],
   "source": [
    "f = np.array([1.1, 2.2, 3.3, 4.9])\n",
    "f.dtype"
   ]
  },
  {
   "cell_type": "code",
   "execution_count": 121,
   "id": "a429f14e",
   "metadata": {},
   "outputs": [
    {
     "data": {
      "text/plain": [
       "array([1, 2, 3, 4])"
      ]
     },
     "execution_count": 121,
     "metadata": {},
     "output_type": "execute_result"
    }
   ],
   "source": [
    "f=f.astype(np.int32)\n",
    "f"
   ]
  },
  {
   "cell_type": "code",
   "execution_count": 122,
   "id": "e548e693",
   "metadata": {},
   "outputs": [
    {
     "data": {
      "text/plain": [
       "(4,)"
      ]
     },
     "execution_count": 122,
     "metadata": {},
     "output_type": "execute_result"
    }
   ],
   "source": [
    "f.shape"
   ]
  },
  {
   "cell_type": "markdown",
   "id": "69e8e1ae",
   "metadata": {},
   "source": [
    "#### 2차원 Array"
   ]
  },
  {
   "cell_type": "code",
   "execution_count": 125,
   "id": "e4e1e5eb",
   "metadata": {},
   "outputs": [],
   "source": [
    "A = [[1,2,3],[4,5,6]]\n",
    "A = np.array(A)"
   ]
  },
  {
   "cell_type": "code",
   "execution_count": 126,
   "id": "b65105f3",
   "metadata": {},
   "outputs": [
    {
     "data": {
      "text/plain": [
       "array([[1, 2, 3],\n",
       "       [4, 5, 6]])"
      ]
     },
     "execution_count": 126,
     "metadata": {},
     "output_type": "execute_result"
    }
   ],
   "source": [
    "A"
   ]
  },
  {
   "cell_type": "code",
   "execution_count": 127,
   "id": "a80add4d",
   "metadata": {},
   "outputs": [
    {
     "data": {
      "text/plain": [
       "numpy.ndarray"
      ]
     },
     "execution_count": 127,
     "metadata": {},
     "output_type": "execute_result"
    }
   ],
   "source": [
    "type(A)"
   ]
  },
  {
   "cell_type": "markdown",
   "id": "66e45420",
   "metadata": {},
   "source": [
    "#### 차원 표시 : ndim\n",
    "```\n",
    "    Array.n\n",
    "```"
   ]
  },
  {
   "cell_type": "code",
   "execution_count": 128,
   "id": "9f8c5979",
   "metadata": {},
   "outputs": [
    {
     "data": {
      "text/plain": [
       "2"
      ]
     },
     "execution_count": 128,
     "metadata": {},
     "output_type": "execute_result"
    }
   ],
   "source": [
    "A.ndim"
   ]
  },
  {
   "cell_type": "code",
   "execution_count": 129,
   "id": "50cb9aca",
   "metadata": {},
   "outputs": [
    {
     "data": {
      "text/plain": [
       "(2, 3)"
      ]
     },
     "execution_count": 129,
     "metadata": {},
     "output_type": "execute_result"
    }
   ],
   "source": [
    "A.shape"
   ]
  },
  {
   "cell_type": "markdown",
   "id": "f589d54b",
   "metadata": {},
   "source": [
    "# 배열에 있는 모든 원소의 개수 size\n",
    "* size = A.shape"
   ]
  },
  {
   "cell_type": "code",
   "execution_count": 130,
   "id": "008f7625",
   "metadata": {},
   "outputs": [
    {
     "data": {
      "text/plain": [
       "6"
      ]
     },
     "execution_count": 130,
     "metadata": {},
     "output_type": "execute_result"
    }
   ],
   "source": [
    "A.size"
   ]
  },
  {
   "cell_type": "code",
   "execution_count": 131,
   "id": "a92bfb6b",
   "metadata": {},
   "outputs": [
    {
     "data": {
      "text/plain": [
       "dtype('int32')"
      ]
     },
     "execution_count": 131,
     "metadata": {},
     "output_type": "execute_result"
    }
   ],
   "source": [
    "A.dtype"
   ]
  },
  {
   "cell_type": "code",
   "execution_count": 132,
   "id": "ebeb4da1",
   "metadata": {
    "scrolled": true
   },
   "outputs": [
    {
     "data": {
      "text/plain": [
       "<memory at 0x000002647BD44040>"
      ]
     },
     "execution_count": 132,
     "metadata": {},
     "output_type": "execute_result"
    }
   ],
   "source": [
    "A.data"
   ]
  },
  {
   "cell_type": "markdown",
   "id": "ea721e8f",
   "metadata": {},
   "source": [
    "#### 최대 최소 합 평균 구하기\n",
    "- max\n",
    "- min\n",
    "- sum\n",
    "- .mean"
   ]
  },
  {
   "cell_type": "code",
   "execution_count": 135,
   "id": "fab2fb0e",
   "metadata": {},
   "outputs": [
    {
     "name": "stdout",
     "output_type": "stream",
     "text": [
      "max : 6\n",
      "min : 1\n",
      "sum : 21\n",
      "mean : 3.5\n"
     ]
    }
   ],
   "source": [
    "b = np.array([1,2,3,4,5,6])\n",
    "print('max :',b.max())\n",
    "print('min :',b.min())\n",
    "print('sum :',b.sum())\n",
    "print('mean :',b.mean())"
   ]
  },
  {
   "cell_type": "markdown",
   "id": "26e8b97d",
   "metadata": {},
   "source": [
    "#### 방향성 지정후 연산\n",
    "* axis =0 / axis =1"
   ]
  },
  {
   "cell_type": "code",
   "execution_count": 140,
   "id": "dd5df663",
   "metadata": {},
   "outputs": [
    {
     "name": "stdout",
     "output_type": "stream",
     "text": [
      "모든 원소의 합 : 10\n",
      "열 방향 계산 : [4 6]\n",
      "행 방향 계산 : [3 7]\n"
     ]
    }
   ],
   "source": [
    "c = np.array([[1,2],[3,4]])\n",
    "print(\"모든 원소의 합 :\",c.sum())\n",
    "print(\"열 방향 계산 :\",c.sum(axis=0))  #열 방향 계산\n",
    "print(\"행 방향 계산 :\",c.sum(axis=1))    #행 방향 계산"
   ]
  },
  {
   "cell_type": "code",
   "execution_count": 141,
   "id": "ce959701",
   "metadata": {},
   "outputs": [
    {
     "name": "stdout",
     "output_type": "stream",
     "text": [
      "모든 원소의 최대값 : 4\n",
      "열 방향 계산 : [3 4]\n",
      "행 방향 계산 : [2 4]\n"
     ]
    }
   ],
   "source": [
    "c = np.array([[1,2],[3,4]])\n",
    "print(\"모든 원소의 최대값 :\",c.max())\n",
    "print(\"열 방향 계산 :\",c.max(axis=0))  #열 방향 계산\n",
    "print(\"행 방향 계산 :\",c.max(axis=1))    #행 방향 계산"
   ]
  },
  {
   "cell_type": "code",
   "execution_count": 156,
   "id": "668a004a",
   "metadata": {},
   "outputs": [
    {
     "data": {
      "text/plain": [
       "(2, 3, 4)"
      ]
     },
     "execution_count": 156,
     "metadata": {},
     "output_type": "execute_result"
    }
   ],
   "source": [
    "A =np.array([[[1,2,3,4],\n",
    "     [5,6,7,8],\n",
    "     [9,10,11,12]],\n",
    "    [[13,14,15,16],\n",
    "     [17,18,19,20],\n",
    "     [21,22,23,24]]])\n",
    "A.shape"
   ]
  },
  {
   "cell_type": "code",
   "execution_count": 157,
   "id": "40217025",
   "metadata": {},
   "outputs": [
    {
     "data": {
      "text/plain": [
       "3"
      ]
     },
     "execution_count": 157,
     "metadata": {},
     "output_type": "execute_result"
    }
   ],
   "source": [
    "A.ndim"
   ]
  },
  {
   "cell_type": "code",
   "execution_count": 158,
   "id": "558b88d7",
   "metadata": {},
   "outputs": [
    {
     "data": {
      "text/plain": [
       "24"
      ]
     },
     "execution_count": 158,
     "metadata": {},
     "output_type": "execute_result"
    }
   ],
   "source": [
    "A.size"
   ]
  },
  {
   "cell_type": "code",
   "execution_count": 160,
   "id": "91003e61",
   "metadata": {},
   "outputs": [
    {
     "data": {
      "text/plain": [
       "array([ 0,  1,  2,  3,  4,  5,  6,  7,  8,  9, 10, 11, 12, 13, 14, 15, 16,\n",
       "       17, 18, 19, 20, 21, 22, 23])"
      ]
     },
     "execution_count": 160,
     "metadata": {},
     "output_type": "execute_result"
    }
   ],
   "source": [
    "A = np.arange(24)\n",
    "A"
   ]
  },
  {
   "cell_type": "code",
   "execution_count": 164,
   "id": "5e900c23",
   "metadata": {},
   "outputs": [
    {
     "data": {
      "text/plain": [
       "array([[[ 0,  1],\n",
       "        [ 2,  3],\n",
       "        [ 4,  5],\n",
       "        [ 6,  7]],\n",
       "\n",
       "       [[ 8,  9],\n",
       "        [10, 11],\n",
       "        [12, 13],\n",
       "        [14, 15]],\n",
       "\n",
       "       [[16, 17],\n",
       "        [18, 19],\n",
       "        [20, 21],\n",
       "        [22, 23]]])"
      ]
     },
     "execution_count": 164,
     "metadata": {},
     "output_type": "execute_result"
    }
   ],
   "source": [
    "A=A.reshape(3,4,2)\n",
    "A"
   ]
  },
  {
   "cell_type": "code",
   "execution_count": 163,
   "id": "69986af3",
   "metadata": {
    "scrolled": true
   },
   "outputs": [
    {
     "data": {
      "text/plain": [
       "array([[    1,     2,     3, ...,    98,    99,   100],\n",
       "       [  101,   102,   103, ...,   198,   199,   200],\n",
       "       [  201,   202,   203, ...,   298,   299,   300],\n",
       "       ...,\n",
       "       [ 9701,  9702,  9703, ...,  9798,  9799,  9800],\n",
       "       [ 9801,  9802,  9803, ...,  9898,  9899,  9900],\n",
       "       [ 9901,  9902,  9903, ...,  9998,  9999, 10000]])"
      ]
     },
     "execution_count": 163,
     "metadata": {},
     "output_type": "execute_result"
    }
   ],
   "source": [
    "B=np.arange(10000).reshape(100,100)\n",
    "B"
   ]
  },
  {
   "cell_type": "markdown",
   "id": "3b91eee8",
   "metadata": {},
   "source": [
    "#### 파이썬 For연산과 numpy 연산의 비교"
   ]
  },
  {
   "cell_type": "code",
   "execution_count": 166,
   "id": "57cf62c9",
   "metadata": {},
   "outputs": [
    {
     "data": {
      "text/plain": [
       "4.633697499999471"
      ]
     },
     "execution_count": 166,
     "metadata": {},
     "output_type": "execute_result"
    }
   ],
   "source": [
    "import timeit\n",
    "timeit.timeit('[i**2 for i in A]', setup ='A=range(100)')"
   ]
  },
  {
   "cell_type": "code",
   "execution_count": 168,
   "id": "b8080f03",
   "metadata": {},
   "outputs": [
    {
     "data": {
      "text/plain": [
       "0.4316932000001543"
      ]
     },
     "execution_count": 168,
     "metadata": {},
     "output_type": "execute_result"
    }
   ],
   "source": [
    "import timeit\n",
    "import numpy as np\n",
    "timeit.timeit('B**2', setup ='import numpy as np; B = np.arange(100)')"
   ]
  },
  {
   "cell_type": "code",
   "execution_count": 169,
   "id": "fd204bab",
   "metadata": {},
   "outputs": [
    {
     "data": {
      "text/plain": [
       "array([[0., 0., 0.],\n",
       "       [0., 0., 0.]])"
      ]
     },
     "execution_count": 169,
     "metadata": {},
     "output_type": "execute_result"
    }
   ],
   "source": [
    "import numpy as np\n",
    "A = np.zeros((2,3))\n",
    "A"
   ]
  },
  {
   "cell_type": "code",
   "execution_count": 170,
   "id": "561dca75",
   "metadata": {},
   "outputs": [
    {
     "data": {
      "text/plain": [
       "dtype('float64')"
      ]
     },
     "execution_count": 170,
     "metadata": {},
     "output_type": "execute_result"
    }
   ],
   "source": [
    "A.dtype"
   ]
  },
  {
   "cell_type": "code",
   "execution_count": 208,
   "id": "6a542823",
   "metadata": {},
   "outputs": [],
   "source": [
    "A = np.zeros((10,10), dtype=np.uint8)"
   ]
  },
  {
   "cell_type": "code",
   "execution_count": 171,
   "id": "07560eb1",
   "metadata": {},
   "outputs": [
    {
     "data": {
      "text/plain": [
       "array([[1., 1., 1.],\n",
       "       [1., 1., 1.]])"
      ]
     },
     "execution_count": 171,
     "metadata": {},
     "output_type": "execute_result"
    }
   ],
   "source": [
    "B = np.ones((2,3))\n",
    "B"
   ]
  },
  {
   "cell_type": "code",
   "execution_count": 172,
   "id": "8a3a6e38",
   "metadata": {},
   "outputs": [
    {
     "data": {
      "text/plain": [
       "dtype('float64')"
      ]
     },
     "execution_count": 172,
     "metadata": {},
     "output_type": "execute_result"
    }
   ],
   "source": [
    "B.dtype"
   ]
  },
  {
   "cell_type": "code",
   "execution_count": 173,
   "id": "0ffc7e3a",
   "metadata": {},
   "outputs": [
    {
     "data": {
      "text/plain": [
       "array([[6.23042070e-307, 4.67296746e-307, 1.69121096e-306,\n",
       "        2.78146964e-307, 1.33511018e-306],\n",
       "       [1.33511969e-306, 6.23037996e-307, 6.23053954e-307,\n",
       "        9.34609790e-307, 8.45593934e-307],\n",
       "       [9.34600963e-307, 1.86921143e-306, 6.23061763e-307,\n",
       "        8.90104239e-307, 8.01089062e-307],\n",
       "       [1.02359848e-306, 1.60219035e-306, 1.60220393e-306,\n",
       "        1.05700515e-307, 2.04712906e-306],\n",
       "       [7.56589622e-307, 1.11258277e-307, 8.90111708e-307,\n",
       "        1.24604136e-306, 2.56765117e-312]])"
      ]
     },
     "execution_count": 173,
     "metadata": {},
     "output_type": "execute_result"
    }
   ],
   "source": [
    "C = np.empty((5,5))\n",
    "C"
   ]
  },
  {
   "cell_type": "code",
   "execution_count": 176,
   "id": "fcc1efbc",
   "metadata": {},
   "outputs": [
    {
     "data": {
      "text/plain": [
       "array([[0.51309998, 0.76319992, 0.02469677],\n",
       "       [0.70841656, 0.47521162, 0.29444705],\n",
       "       [0.99442256, 0.95570868, 0.50007224]])"
      ]
     },
     "execution_count": 176,
     "metadata": {},
     "output_type": "execute_result"
    }
   ],
   "source": [
    "D=np.random.random((3,3)) # 0~1사이의 실수값\n",
    "D"
   ]
  },
  {
   "cell_type": "markdown",
   "id": "347682eb",
   "metadata": {},
   "source": [
    "#### 정수 랜덤값\n",
    "- np.random.randint(시작값,끝값,(배열크기(n,m))"
   ]
  },
  {
   "cell_type": "code",
   "execution_count": 180,
   "id": "8d138a7e",
   "metadata": {},
   "outputs": [
    {
     "data": {
      "text/plain": [
       "array([[7, 7],\n",
       "       [7, 4]])"
      ]
     },
     "execution_count": 180,
     "metadata": {},
     "output_type": "execute_result"
    }
   ],
   "source": [
    "E=np.random.randint(1,10,(2,2)) # 0~1사이의 실수값\n",
    "E"
   ]
  },
  {
   "cell_type": "markdown",
   "id": "ba011a8a",
   "metadata": {},
   "source": [
    "### 연속원소 배열 생성 : np.arange()\n",
    "- np.arange(마지막값)\n",
    "- np.arange(시작값,마지막값)\n",
    "- np.arange(시작값,마지막값,간격)"
   ]
  },
  {
   "cell_type": "code",
   "execution_count": 186,
   "id": "53c33e16",
   "metadata": {},
   "outputs": [
    {
     "data": {
      "text/plain": [
       "array([  1,   2,   3,   4,   5,   6,   7,   8,   9,  10,  11,  12,  13,\n",
       "        14,  15,  16,  17,  18,  19,  20,  21,  22,  23,  24,  25,  26,\n",
       "        27,  28,  29,  30,  31,  32,  33,  34,  35,  36,  37,  38,  39,\n",
       "        40,  41,  42,  43,  44,  45,  46,  47,  48,  49,  50,  51,  52,\n",
       "        53,  54,  55,  56,  57,  58,  59,  60,  61,  62,  63,  64,  65,\n",
       "        66,  67,  68,  69,  70,  71,  72,  73,  74,  75,  76,  77,  78,\n",
       "        79,  80,  81,  82,  83,  84,  85,  86,  87,  88,  89,  90,  91,\n",
       "        92,  93,  94,  95,  96,  97,  98,  99, 100])"
      ]
     },
     "execution_count": 186,
     "metadata": {},
     "output_type": "execute_result"
    }
   ],
   "source": [
    "# 0에서 부터 100까지의 연속된 정수값\n",
    "A= np.arange(1,101)\n",
    "A"
   ]
  },
  {
   "cell_type": "code",
   "execution_count": 187,
   "id": "c11f6543",
   "metadata": {},
   "outputs": [
    {
     "data": {
      "text/plain": [
       "array([ 1,  2,  3,  4,  5,  6,  7,  8,  9, 10, 11, 12, 13, 14, 15, 16, 17,\n",
       "       18, 19, 20, 21, 22, 23, 24, 25, 26, 27, 28, 29, 30, 31, 32, 33, 34,\n",
       "       35, 36, 37, 38, 39, 40, 41, 42, 43, 44, 45])"
      ]
     },
     "execution_count": 187,
     "metadata": {},
     "output_type": "execute_result"
    }
   ],
   "source": [
    "#1부터 45까지의 연속된 숫자값\n",
    "A = np.arange(1,46)\n",
    "A"
   ]
  },
  {
   "cell_type": "code",
   "execution_count": 196,
   "id": "b446a7e4",
   "metadata": {},
   "outputs": [
    {
     "data": {
      "text/plain": [
       "array([ 0.,  1.,  2.,  3.,  4.,  5.,  6.,  7.,  8.,  9., 10., 11., 12.,\n",
       "       13., 14., 15., 16., 17., 18., 19., 20., 21., 22., 23., 24., 25.,\n",
       "       26., 27., 28., 29., 30., 31., 32., 33., 34., 35., 36., 37., 38.,\n",
       "       39., 40., 41., 42., 43., 44., 45., 46., 47., 48., 49., 50., 51.])"
      ]
     },
     "execution_count": 196,
     "metadata": {},
     "output_type": "execute_result"
    }
   ],
   "source": [
    "#0부터 50까지의 5의 배수값(0포함)\n",
    "A = np.arange(0,51.5)\n",
    "A"
   ]
  },
  {
   "cell_type": "code",
   "execution_count": 197,
   "id": "156d33d5",
   "metadata": {},
   "outputs": [
    {
     "data": {
      "text/plain": [
       "array([ 0.        ,  1.11111111,  2.22222222,  3.33333333,  4.44444444,\n",
       "        5.55555556,  6.66666667,  7.77777778,  8.88888889, 10.        ])"
      ]
     },
     "execution_count": 197,
     "metadata": {},
     "output_type": "execute_result"
    }
   ],
   "source": [
    "np.linspace(0,10,10)"
   ]
  },
  {
   "cell_type": "code",
   "execution_count": 200,
   "id": "c6dda6c7",
   "metadata": {},
   "outputs": [
    {
     "name": "stdout",
     "output_type": "stream",
     "text": [
      "50\n"
     ]
    },
    {
     "data": {
      "text/plain": [
       "array([  0.        ,   2.04081633,   4.08163265,   6.12244898,\n",
       "         8.16326531,  10.20408163,  12.24489796,  14.28571429,\n",
       "        16.32653061,  18.36734694,  20.40816327,  22.44897959,\n",
       "        24.48979592,  26.53061224,  28.57142857,  30.6122449 ,\n",
       "        32.65306122,  34.69387755,  36.73469388,  38.7755102 ,\n",
       "        40.81632653,  42.85714286,  44.89795918,  46.93877551,\n",
       "        48.97959184,  51.02040816,  53.06122449,  55.10204082,\n",
       "        57.14285714,  59.18367347,  61.2244898 ,  63.26530612,\n",
       "        65.30612245,  67.34693878,  69.3877551 ,  71.42857143,\n",
       "        73.46938776,  75.51020408,  77.55102041,  79.59183673,\n",
       "        81.63265306,  83.67346939,  85.71428571,  87.75510204,\n",
       "        89.79591837,  91.83673469,  93.87755102,  95.91836735,\n",
       "        97.95918367, 100.        ])"
      ]
     },
     "execution_count": 200,
     "metadata": {},
     "output_type": "execute_result"
    }
   ],
   "source": [
    "B = np.linspace(0,100)\n",
    "print(B.size)\n",
    "B\n"
   ]
  },
  {
   "cell_type": "code",
   "execution_count": 209,
   "id": "20461e45",
   "metadata": {},
   "outputs": [
    {
     "data": {
      "text/plain": [
       "array([ 0,  1,  2,  3,  4,  5,  6,  7,  8,  9, 10, 11, 12, 13, 14, 15])"
      ]
     },
     "execution_count": 209,
     "metadata": {},
     "output_type": "execute_result"
    }
   ],
   "source": [
    "A = np.arange(16)\n",
    "A"
   ]
  },
  {
   "cell_type": "code",
   "execution_count": 210,
   "id": "228887ad",
   "metadata": {
    "scrolled": true
   },
   "outputs": [
    {
     "data": {
      "text/plain": [
       "array([[ 0,  1,  2,  3],\n",
       "       [ 4,  5,  6,  7],\n",
       "       [ 8,  9, 10, 11],\n",
       "       [12, 13, 14, 15]])"
      ]
     },
     "execution_count": 210,
     "metadata": {},
     "output_type": "execute_result"
    }
   ],
   "source": [
    "B= A.reshape(4,4)\n",
    "B"
   ]
  },
  {
   "cell_type": "code",
   "execution_count": 223,
   "id": "60d0c3fc",
   "metadata": {},
   "outputs": [],
   "source": [
    "B1 = A.reshape(4,4).copy()"
   ]
  },
  {
   "cell_type": "code",
   "execution_count": 211,
   "id": "03f80958",
   "metadata": {},
   "outputs": [
    {
     "data": {
      "text/plain": [
       "array([[100,   1,   2,   3],\n",
       "       [  4,   5,   6,   7],\n",
       "       [  8,   9,  10,  11],\n",
       "       [ 12,  13,  14,  15]])"
      ]
     },
     "execution_count": 211,
     "metadata": {},
     "output_type": "execute_result"
    }
   ],
   "source": [
    "A[0] =100\n",
    "B"
   ]
  },
  {
   "cell_type": "code",
   "execution_count": 224,
   "id": "6b60cfc7",
   "metadata": {
    "scrolled": true
   },
   "outputs": [
    {
     "data": {
      "text/plain": [
       "array([[ 0,  1,  2,  3],\n",
       "       [ 4,  5,  6,  7],\n",
       "       [ 8,  9, 10, 11],\n",
       "       [12, 13, 14, 15]])"
      ]
     },
     "execution_count": 224,
     "metadata": {},
     "output_type": "execute_result"
    }
   ],
   "source": [
    "B1"
   ]
  },
  {
   "cell_type": "code",
   "execution_count": 216,
   "id": "d45530dc",
   "metadata": {},
   "outputs": [
    {
     "data": {
      "text/plain": [
       "array([ 0,  1,  2,  3,  4,  5,  6,  7,  8,  9, 10, 11, 12, 13, 14, 15])"
      ]
     },
     "execution_count": 216,
     "metadata": {},
     "output_type": "execute_result"
    }
   ],
   "source": [
    "A = np.arange(16)\n",
    "A"
   ]
  },
  {
   "cell_type": "code",
   "execution_count": 217,
   "id": "4e7bb66f",
   "metadata": {},
   "outputs": [
    {
     "data": {
      "text/plain": [
       "array([[ 0,  1,  2,  3],\n",
       "       [ 4,  5,  6,  7],\n",
       "       [ 8,  9, 10, 11],\n",
       "       [12, 13, 14, 15]])"
      ]
     },
     "execution_count": 217,
     "metadata": {},
     "output_type": "execute_result"
    }
   ],
   "source": [
    "B = A.reshape(4,-1)\n",
    "B"
   ]
  },
  {
   "cell_type": "code",
   "execution_count": 225,
   "id": "58a95298",
   "metadata": {
    "scrolled": true
   },
   "outputs": [
    {
     "data": {
      "text/plain": [
       "array([[ 0,  1,  2,  3,  4,  5,  6,  7],\n",
       "       [ 8,  9, 10, 11, 12, 13, 14, 15]])"
      ]
     },
     "execution_count": 225,
     "metadata": {},
     "output_type": "execute_result"
    }
   ],
   "source": [
    "C =A.reshape(-1,8)\n",
    "C"
   ]
  }
 ],
 "metadata": {
  "kernelspec": {
   "display_name": "Python 3 (ipykernel)",
   "language": "python",
   "name": "python3"
  },
  "language_info": {
   "codemirror_mode": {
    "name": "ipython",
    "version": 3
   },
   "file_extension": ".py",
   "mimetype": "text/x-python",
   "name": "python",
   "nbconvert_exporter": "python",
   "pygments_lexer": "ipython3",
   "version": "3.11.5"
  }
 },
 "nbformat": 4,
 "nbformat_minor": 5
}
