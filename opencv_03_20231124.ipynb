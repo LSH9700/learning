{
 "cells": [
  {
   "cell_type": "markdown",
   "id": "e584d980",
   "metadata": {},
   "source": [
    "### 검정색 사각형 만들기\n",
    "- 크기 : 가로(800) 세로(600) 컬러(dim: 3)"
   ]
  },
  {
   "cell_type": "code",
   "execution_count": 2,
   "id": "b72c008c",
   "metadata": {},
   "outputs": [],
   "source": [
    "import cv2\n",
    "import numpy as np\n",
    "height,width,dim = (600,800,3)\n",
    "img_zero = np.zeros((height,width,dim),dtype=np.uint8)\n",
    "cv2.imshow('src',img_zero)\n",
    "cv2.waitKey()\n",
    "cv2.destroyAllWindows()"
   ]
  },
  {
   "cell_type": "markdown",
   "id": "105202bd",
   "metadata": {},
   "source": [
    "### 원 그리기"
   ]
  },
  {
   "cell_type": "code",
   "execution_count": 4,
   "id": "33e34352",
   "metadata": {},
   "outputs": [],
   "source": [
    "import cv2\n",
    "import numpy as np\n",
    "import random\n",
    "height,width,dim = (600,800,3)\n",
    "img_zero = np.zeros((height,width,dim),dtype=np.uint8)\n",
    "#### 원 그리기 : 점(300,300) 번자룸 50 초록색 (0,255,0), 채우기\n",
    "color=(0,255,0)\n",
    "cv2.circle(img_zero,(300,300),3,(0,0,255),-1)\n",
    "cv2.circle(img_zero,(300,300),50,color,2)\n",
    "\n",
    "b=random.randint(0,255)\n",
    "g=random.randint(0,255)\n",
    "r=random.randint(0,255)\n",
    "cv2.circle(img_zero,(200,200),100,(b,g,r),-1)\n",
    "cv2.circle(img_zero,(200,200),3,(0,0,255),-1)\n",
    "\n",
    "cv2.imshow('src',img_zero)\n",
    "cv2.waitKey()\n",
    "cv2.destroyAllWindows()\n",
    "#------------------------"
   ]
  },
  {
   "cell_type": "code",
   "execution_count": 9,
   "id": "bc6aa05d",
   "metadata": {},
   "outputs": [],
   "source": [
    "### 사각형 그리기\n",
    "import cv2\n",
    "import numpy as np\n",
    "import random\n",
    "b=random.randint(0,255)\n",
    "g=random.randint(0,255)\n",
    "r=random.randint(0,255)\n",
    "cv2.rectangle(img_zero,(50,50),(450,450), (0,255,0),3)\n",
    "cv2.rectangle(img_zero,(150,200),(250,300), (b,g,r),-1)\n",
    "cv2.rectangle(img_zero,(300,150,50,100), (255,255,0),-1)\n",
    "cv2.imshow('src',img_zero)\n",
    "cv2.waitKey()\n",
    "cv2.destroyAllWindows()"
   ]
  },
  {
   "cell_type": "code",
   "execution_count": 8,
   "id": "8556a3e6",
   "metadata": {},
   "outputs": [],
   "source": [
    "###선 그리기\n",
    "import cv2\n",
    "import numpy as np\n",
    "import random\n",
    "cv2.line(img_zero,(100,100),(700,100),(255,0,0),5)\n",
    "cv2.line(img_zero,(100,200),(700,200),(0,255,0),5)\n",
    "cv2.line(img_zero,(100,300),(700,300),(0,0,255),5)\n",
    "cv2.line(img_zero,(100,400),(700,400),(255,255,0),5)\n",
    "cv2.line(img_zero,(100,500),(700,500),(0,255,255),5)\n",
    "cv2.imshow('src',img_zero)\n",
    "cv2.waitKey()\n",
    "cv2.destroyAllWindows()"
   ]
  },
  {
   "cell_type": "code",
   "execution_count": 7,
   "id": "d39b2654",
   "metadata": {},
   "outputs": [],
   "source": [
    "#대각선 그리기\n",
    "import cv2\n",
    "import numpy as np\n",
    "import random\n",
    "cv2.line(img_zero,(0,0),(width-1,height-1),(64,64,64),5)\n",
    "cv2.line(img_zero,(0,height-1),(width-1,0),(64,64,64),5)\n",
    "cv2.imshow('src',img_zero)\n",
    "cv2.waitKey()\n",
    "cv2.destroyAllWindows()"
   ]
  },
  {
   "cell_type": "markdown",
   "id": "1cf0a9af",
   "metadata": {},
   "source": [
    "###  타원형 그리기"
   ]
  },
  {
   "cell_type": "code",
   "execution_count": null,
   "id": "0ec3016d",
   "metadata": {},
   "outputs": [],
   "source": [
    "import cv2\n",
    "import numpy as np\n",
    "import random\n",
    "height,width,dim = (600,800,3)\n",
    "img_zero = np.zeros((height,width,dim),dtype=np.uint8)\n",
    "center = (400,300) #타원의 중심점\n",
    "axes = (200,100)     #타원의 긴부분과 짧은 부분\n",
    "angle = 0           #타원의 장축이 기울어진 각도\n",
    "startAngle =0      #사적 걱도\n",
    "endAngle = 360      #끝각도\n",
    "color = (255,255,0) #색깔\n",
    "thickness = 3       #두꼐\n",
    "cv2.ellipse(img_zero,center,axes,angle,startAngle,endAngle,color,thickness)\n",
    "cv2.imshow('src',img_zero)\n",
    "cv2.waitKey()\n",
    "cv2.destroyAllWindows()"
   ]
  },
  {
   "cell_type": "markdown",
   "id": "41aec678",
   "metadata": {},
   "source": [
    "### 다각형,내부가채워진 다각형 그리기"
   ]
  },
  {
   "cell_type": "code",
   "execution_count": null,
   "id": "969c05c4",
   "metadata": {},
   "outputs": [],
   "source": [
    "import cv2\n",
    "import numpy as np\n",
    "import random\n",
    "#이미지\n",
    "#--------------------------------------------------------------------------------\n",
    "height,width,dim = (600,800,3)\n",
    "img_zero = np.zeros((height,width,dim),dtype=np.uint8)\n",
    "#### 다각형,내부가 채워진 다각형 그리기\n",
    "pt1 = np.array([[100,500],[300,500],[200,550]])\n",
    "pt2 = np.array([[600,500],[700,450],[650,550]])\n",
    "img_zero = cv2.polylines(img_zero,[pt1],True,(0,255,255),3) ##다각형 \n",
    "img_zero = cv2.fillPoly(img_zero,[pt2],(0,255,255),cv2.LINE_AA) ##내부가채워진 다각형"
   ]
  },
  {
   "cell_type": "markdown",
   "id": "b72c0308",
   "metadata": {},
   "source": [
    "### 글자 쓰기"
   ]
  },
  {
   "cell_type": "code",
   "execution_count": null,
   "id": "d325a180",
   "metadata": {},
   "outputs": [],
   "source": [
    "import cv2\n",
    "import numpy as np\n",
    "import random\n",
    "#이미지\n",
    "#--------------------------------------------------------------------------------\n",
    "height,width,dim = (600,800,3)\n",
    "img_zero = np.zeros((height,width,dim),dtype=np.uint8)\n",
    "#### 글자출력\n",
    "\n",
    "pt=(200,300)\n",
    "\n",
    "\n",
    "font = cv2.FONT_HERSHEY_SCRIPT_SIMPLEX\n",
    "\n",
    "cv2.putText(img_zero,'aaaaa',pt,font,3,(0,0,255),3)\n",
    "img_zero = cv2.line(img_zero,(180,300),(200,300),(255,255,0),1)\n",
    "img_zero = cv2.line(img_zero,(200,280),(200,320),(255,255,0),1)"
   ]
  },
  {
   "cell_type": "markdown",
   "id": "926e9d8e",
   "metadata": {},
   "source": [
    "### 트랙바 예제"
   ]
  },
  {
   "cell_type": "code",
   "execution_count": null,
   "id": "e406e0fc",
   "metadata": {},
   "outputs": [],
   "source": [
    "import cv2\n",
    "def on_trackbar(x):\n",
    "    pass\n",
    "\n",
    "cv2.namedWindow('Threshold')\n",
    "cv2.createTrackbar('threshold', 'Threshold', 0, 255, on_trackbar)\n",
    "cv2.setTrackbarPos('threshold', 'Threshold', 128)\n",
    "img_gray = cv2.imread('my_shape.png', cv2.IMREAD_GRAYSCALE)\n",
    "\n",
    "while (1):\n",
    "    thres = cv2.getTrackbarPos('threshold', 'Threshold')\n",
    "    ret, img_binary = cv2.threshold(img_gray, thres, 255, cv2.THRESH_BINARY_INV)\n",
    "    cv2.imshow('Threshold', img_binary)\n",
    "\n",
    "    if cv2.waitKey(1) & 0xFF == 27: # ESC키\n",
    "        break\n",
    "cv2.destroyAllWindows()"
   ]
  },
  {
   "cell_type": "markdown",
   "id": "cbcb70f0",
   "metadata": {},
   "source": [
    "### 외곽선 따기\n"
   ]
  },
  {
   "cell_type": "code",
   "execution_count": null,
   "id": "9ea8b846",
   "metadata": {},
   "outputs": [],
   "source": [
    "import cv2\n",
    "import numpy as np\n",
    "import random\n",
    "img_src = cv2.imread('ss.png',cv2.IMREAD_COLOR)\n",
    "height, width = img_src.shape[:2]\n",
    "img_gray = cv2.cvtColor(img_src,cv2.COLOR_BGR2GRAY)\n",
    "ret,img_binary = cv2.threshold(img_gray,250,255,cv2.THRESH_BINARY_INV)\n",
    "\n",
    "contours,hierachy = cv2.findContours(img_binary,cv2.RETR_LIST,cv2.CHAIN_APPROX_NONE)\n",
    "                                                #계층구조 없음   #모든외곽\n",
    "\n",
    "for i, contours in enumerate(contours):\n",
    "    cv2.drawContours(img_src,[contours],0,(0,255,0),3)\n",
    "    cv2.putText(img_src,str(i),tuple(contours[0][0]),cv2.FONT_HERSHEY_SCRIPT_SIMPLEX,0.5,(255,0,0),3)\n",
    "    cv2.imshow('src',img_src)\n",
    "    cv2.waitKey()\n",
    "\n",
    "\n",
    "cv2.destroyAllWindows()"
   ]
  },
  {
   "cell_type": "markdown",
   "id": "558891aa",
   "metadata": {},
   "source": [
    "### moment 사용하기"
   ]
  },
  {
   "cell_type": "code",
   "execution_count": null,
   "id": "4d8923a8",
   "metadata": {},
   "outputs": [],
   "source": [
    "import cv2\n",
    "import numpy as np\n",
    "import random\n",
    "img_src = cv2.imread('ss.png',cv2.IMREAD_COLOR)\n",
    "height, width = img_src.shape[:2]\n",
    "img_gray = cv2.cvtColor(img_src,cv2.COLOR_BGR2GRAY)\n",
    "ret,img_binary = cv2.threshold(img_gray,250,255,cv2.THRESH_BINARY_INV)\n",
    "\n",
    "contours,hierachy = cv2.findContours(img_binary,cv2.RETR_LIST,cv2.CHAIN_APPROX_NONE)\n",
    "                                                #계층구조 없음   #모든외곽\n",
    "\n",
    "for i, contours in enumerate(contours):\n",
    "    area = cv2.contourArea(contours)    #면적구하기\n",
    "    if area > 5000:\n",
    "        mu = cv2.moments(contours)\n",
    "        cx = int(mu['m10'] / (mu['m00'] + 1e-5))\n",
    "        cy = int(mu['m01'] / (mu['m00'] + 1e-5))\n",
    "        cv2.circle(img_src,(cx,cy),3,(255 ,255,255),-1)\n",
    "        cv2.drawContours(img_src, [contours], 0, (0, 255, 0), 3)    #외곽선 그리기\n",
    "        x,y,w,h = cv2.boundingRect(contours)\n",
    "        cv2.rectangle(img_src,(x,y,w,h),(0,0,255),3) #사각형 그리기\n",
    "        # 사각형 그리기 끝\n",
    "        ##최소면적에 사각형 그리기\n",
    "        rect = cv2.minAreaRect(contours)\n",
    "        box = cv2.boxPoints(rect)\n",
    "        box = np.intp(box)\n",
    "        cv2.drawContours(img_src,[box],0,(255,0,0),2)\n",
    "        ###최소면적 그리기 끝\n",
    "        cv2.putText(img_src,f'{i}:{area:.0f}',(cx-35,cy+25),cv2.FONT_HERSHEY_SCRIPT_SIMPLEX,0.5,(255,255,255),1)\n",
    "\n",
    "\n",
    "cv2.imshow('src',img_src)\n",
    "cv2.waitKey()\n",
    "cv2.destroyAllWindows()"
   ]
  },
  {
   "cell_type": "code",
   "execution_count": null,
   "id": "0473772a",
   "metadata": {},
   "outputs": [],
   "source": [
    "import cv2\n",
    "\n",
    "img_src = cv2.imread('coin.png',cv2.IMREAD_COLOR)\n",
    "height,width = img_src.shape[:2]\n",
    "# color to gray\n",
    "img_gray = cv2.cvtColor(img_src,cv2.COLOR_BGR2GRAY)\n",
    "# smoothing(bluring)\n",
    "img_gray = cv2.GaussianBlur(img_gray,(15,15), 0)\n",
    "img_binary = cv2.adaptiveThreshold(img_gray,255,\n",
    "                                   cv2.ADAPTIVE_THRESH_GAUSSIAN_C,\n",
    "                                   cv2.THRESH_BINARY_INV, 11, 1)\n",
    "\n",
    "\n",
    "cv2.imshow('src',img_src)\n",
    "cv2.imshow('dst',img_binary)\n",
    "\n",
    "cv2.waitKey()\n",
    "cv2.destroyAllWindows()"
   ]
  },
  {
   "cell_type": "code",
   "execution_count": null,
   "id": "e2451d9b",
   "metadata": {},
   "outputs": [],
   "source": [
    "import cv2\n",
    "\n",
    "img_src = cv2.imread('coin.png',cv2.IMREAD_COLOR)\n",
    "height,width = img_src.shape[:2]\n",
    "# color to gray\n",
    "img_gray = cv2.cvtColor(img_src,cv2.COLOR_BGR2GRAY)\n",
    "# smoothing(bluring)\n",
    "img_gray = cv2.GaussianBlur(img_gray,(15,15), 0)\n",
    "img_binary = cv2.adaptiveThreshold(img_gray,255,\n",
    "                                   cv2.ADAPTIVE_THRESH_GAUSSIAN_C,\n",
    "                                   cv2.THRESH_BINARY_INV, 11, 1)\n",
    "################# 모폴로지 ####################\n",
    "kernel = cv2.getStructuringElement(cv2.MORPH_RECT,(3,3))\n",
    "img_binary = cv2.morphologyEx(img_binary,cv2.MORPH_OPEN,kernel,iterations=2)\n",
    "img_binary = cv2.morphologyEx(img_binary,cv2.MORPH_CLOSE,kernel,iterations=5)\n",
    "#############################################\n",
    "contours, hierarchy = cv2.findContours(img_binary,\n",
    "                                       cv2.RETR_CCOMP, # 계층 존재 2단계 아래 삭제\n",
    "                                       cv2.CHAIN_APPROX_NONE)\n",
    "for i,contour in enumerate(contours):\n",
    "    print(i, hierarchy[0][i])\n",
    "    # print(i, hierarchy[0][i][2])\n",
    "    if hierarchy[0][i][2] != -1:\n",
    "        cv2.drawContours(img_src,[contour],0,(0,255,0),2)\n",
    "        cv2.putText(img_src,str(i),tuple(contour[0][0]),cv2.FONT_HERSHEY_SIMPLEX,0.7,(0,0,255),1)\n",
    "\n",
    "cv2.imshow('src',img_src)\n",
    "cv2.imshow('dst',img_binary)\n",
    "\n",
    "cv2.waitKey()\n",
    "cv2.destroyAllWindows()\n"
   ]
  }
 ],
 "metadata": {
  "kernelspec": {
   "display_name": "Python 3 (ipykernel)",
   "language": "python",
   "name": "python3"
  },
  "language_info": {
   "codemirror_mode": {
    "name": "ipython",
    "version": 3
   },
   "file_extension": ".py",
   "mimetype": "text/x-python",
   "name": "python",
   "nbconvert_exporter": "python",
   "pygments_lexer": "ipython3",
   "version": "3.11.5"
  }
 },
 "nbformat": 4,
 "nbformat_minor": 5
}
